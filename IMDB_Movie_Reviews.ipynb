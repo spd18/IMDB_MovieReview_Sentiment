{
  "cells": [
    {
      "cell_type": "markdown",
      "source": [
        "**Project: Sentiment Analysis of IMDB Movie Reviews**\n",
        "\n"
      ],
      "metadata": {
        "id": "Lp3CDYlcqHPl"
      },
      "id": "Lp3CDYlcqHPl"
    },
    {
      "cell_type": "markdown",
      "source": [
        "This project is aimed processing and analysing raw data for which we used IMDB Review dataset which consists of Review and Sentiment. This being part of Sentiment Analysis for IMDB Movie Reviews."
      ],
      "metadata": {
        "id": "1QLDkKU8wKO2"
      },
      "id": "1QLDkKU8wKO2"
    },
    {
      "cell_type": "markdown",
      "source": [
        "**Importing all necessary Librabries**"
      ],
      "metadata": {
        "id": "Ri7-azwKqYtG"
      },
      "id": "Ri7-azwKqYtG"
    },
    {
      "cell_type": "code",
      "execution_count": null,
      "id": "86a843a8-b0ba-4ad6-8a0a-4e53e7529494",
      "metadata": {
        "id": "86a843a8-b0ba-4ad6-8a0a-4e53e7529494"
      },
      "outputs": [],
      "source": [
        "import string\n",
        "import numpy as np\n",
        "import pandas as pd\n",
        "import matplotlib.pyplot as plt\n",
        "import seaborn as sns\n",
        "\n",
        "import spacy\n",
        "from spacy import displacy\n",
        "from spacy.lang.en import STOP_WORDS\n",
        "\n",
        "nlp = spacy.load('en_core_web_sm')\n",
        "STOP_WORDS = nlp.Defaults.stop_words\n",
        "\n",
        "from sklearn.feature_extraction.text import CountVectorizer\n",
        "from gensim.models import Word2Vec\n",
        "\n",
        "from sklearn.feature_extraction.text import TfidfVectorizer\n",
        "from sklearn.linear_model import LogisticRegression\n",
        "\n",
        "import nltk\n",
        "from nltk import RegexpParser\n",
        "import nltk\n",
        "\n",
        "\n"
      ]
    },
    {
      "cell_type": "code",
      "source": [
        "nltk.download('averaged_perceptron_tagger')\n",
        "\n",
        "# Reading Dataset from the comma seperated file\n",
        "file_path = 'IMDB Dataset.csv'\n",
        "df = pd.read_csv(file_path)\n"
      ],
      "metadata": {
        "colab": {
          "base_uri": "https://localhost:8080/"
        },
        "id": "Ryj2VvObp9um",
        "outputId": "21e264b8-bf8a-4ad8-e3af-8e802aef3565"
      },
      "id": "Ryj2VvObp9um",
      "execution_count": null,
      "outputs": [
        {
          "output_type": "stream",
          "name": "stderr",
          "text": [
            "[nltk_data] Downloading package averaged_perceptron_tagger to\n",
            "[nltk_data]     /root/nltk_data...\n",
            "[nltk_data]   Unzipping taggers/averaged_perceptron_tagger.zip.\n"
          ]
        }
      ]
    },
    {
      "cell_type": "markdown",
      "source": [
        "**Exploratory Data Analysis**"
      ],
      "metadata": {
        "id": "ip6JllKiqwBT"
      },
      "id": "ip6JllKiqwBT"
    },
    {
      "cell_type": "markdown",
      "source": [
        "Dataset:\n",
        "\n",
        "The dataset is taken from open-source platform called Kaggle (URL). Our dataset consists of 2 features that is review and sentiments. Sentiments feature has two unique value that is Positive sentiment and Negative sentiment. Our dataset is a balanced dataset that has 25000 records for both the classes.\n"
      ],
      "metadata": {
        "id": "PhuwLsTSztew"
      },
      "id": "PhuwLsTSztew"
    },
    {
      "cell_type": "code",
      "execution_count": null,
      "id": "3ee43734-03c6-4404-ae11-20f0b8650582",
      "metadata": {
        "colab": {
          "base_uri": "https://localhost:8080/"
        },
        "id": "3ee43734-03c6-4404-ae11-20f0b8650582",
        "outputId": "629f9cf0-90cc-4d77-bba2-dc580b61eb74"
      },
      "outputs": [
        {
          "output_type": "stream",
          "name": "stdout",
          "text": [
            "First few rows of the IMDb Review dataset:\n",
            "                                              review sentiment\n",
            "0  One of the other reviewers has mentioned that ...  positive\n",
            "1  A wonderful little production. <br /><br />The...  positive\n",
            "2  I thought this was a wonderful way to spend ti...  positive\n",
            "3  Basically there's a family where a little boy ...  negative\n",
            "4  Petter Mattei's \"Love in the Time of Money\" is...  positive\n"
          ]
        }
      ],
      "source": [
        "print(\"First few rows of the IMDb Review dataset:\")\n",
        "print(df.head())"
      ]
    },
    {
      "cell_type": "code",
      "source": [
        "df.shape"
      ],
      "metadata": {
        "colab": {
          "base_uri": "https://localhost:8080/"
        },
        "id": "fIdZNszIB2B6",
        "outputId": "fdc1a68c-6919-449b-9d5c-7c7a27dc0271"
      },
      "id": "fIdZNszIB2B6",
      "execution_count": null,
      "outputs": [
        {
          "output_type": "execute_result",
          "data": {
            "text/plain": [
              "(50000, 2)"
            ]
          },
          "metadata": {},
          "execution_count": 4
        }
      ]
    },
    {
      "cell_type": "code",
      "execution_count": null,
      "id": "4034e3cc-2203-4344-b6d6-5c2a67f45de9",
      "metadata": {
        "colab": {
          "base_uri": "https://localhost:8080/"
        },
        "id": "4034e3cc-2203-4344-b6d6-5c2a67f45de9",
        "outputId": "51f2af93-5864-41d7-d379-298671b89686"
      },
      "outputs": [
        {
          "output_type": "stream",
          "name": "stdout",
          "text": [
            "\n",
            "Dataset information:\n",
            "<class 'pandas.core.frame.DataFrame'>\n",
            "RangeIndex: 50000 entries, 0 to 49999\n",
            "Data columns (total 2 columns):\n",
            " #   Column     Non-Null Count  Dtype \n",
            "---  ------     --------------  ----- \n",
            " 0   review     50000 non-null  object\n",
            " 1   sentiment  50000 non-null  object\n",
            "dtypes: object(2)\n",
            "memory usage: 781.4+ KB\n",
            "None\n"
          ]
        }
      ],
      "source": [
        "print(\"\\nDataset information:\")\n",
        "print(df.info())"
      ]
    },
    {
      "cell_type": "code",
      "source": [
        "# Check for missing values\n",
        "print(\"\\nMissing values:\")\n",
        "print(df.isnull().sum())"
      ],
      "metadata": {
        "colab": {
          "base_uri": "https://localhost:8080/"
        },
        "id": "cfsjyeFvq2kV",
        "outputId": "88b5dcf8-08b3-4616-bb13-4bcaa77f92ab"
      },
      "id": "cfsjyeFvq2kV",
      "execution_count": null,
      "outputs": [
        {
          "output_type": "stream",
          "name": "stdout",
          "text": [
            "\n",
            "Missing values:\n",
            "review       0\n",
            "sentiment    0\n",
            "dtype: int64\n"
          ]
        }
      ]
    },
    {
      "cell_type": "code",
      "source": [
        "# Explore unique values in categorical columns\n",
        "print(\"\\nUnique values in 'sentiment' column:\")\n",
        "print(df['sentiment'].value_counts())"
      ],
      "metadata": {
        "colab": {
          "base_uri": "https://localhost:8080/"
        },
        "id": "ewoWShZ5q4C2",
        "outputId": "da8067fa-7b49-420a-fba4-53e63919ae5a"
      },
      "id": "ewoWShZ5q4C2",
      "execution_count": null,
      "outputs": [
        {
          "output_type": "stream",
          "name": "stdout",
          "text": [
            "\n",
            "Unique values in 'sentiment' column:\n",
            "sentiment\n",
            "positive    25000\n",
            "negative    25000\n",
            "Name: count, dtype: int64\n"
          ]
        }
      ]
    },
    {
      "cell_type": "markdown",
      "source": [
        "We have 50000 (50K) records in our dataset. Our dataset is balanced dataset. In order to ease the process we are considering only 2000 records as our sample dataset."
      ],
      "metadata": {
        "id": "0zirJ0qgq7z4"
      },
      "id": "0zirJ0qgq7z4"
    },
    {
      "cell_type": "code",
      "execution_count": null,
      "id": "ac04c751-6d65-4b8a-958e-956c81f23ecb",
      "metadata": {
        "id": "ac04c751-6d65-4b8a-958e-956c81f23ecb"
      },
      "outputs": [],
      "source": [
        "positive_reviews = df[df['sentiment'] == 'positive']\n",
        "negative_reviews = df[df['sentiment'] == 'negative']\n",
        "\n",
        "sample_len = 1000\n",
        "sampled_positive_reviews = positive_reviews.sample(n=sample_len, random_state=82)\n",
        "sampled_negative_reviews = negative_reviews.sample(n=sample_len, random_state=82)\n",
        "\n",
        "dataset = pd.concat([sampled_positive_reviews, sampled_negative_reviews])\n",
        "dataset = dataset.sample(frac=1, random_state=82).reset_index(drop=True)"
      ]
    },
    {
      "cell_type": "markdown",
      "source": [
        "Stratifies Sampling and visualisation"
      ],
      "metadata": {
        "id": "BbAjW7qOrWo6"
      },
      "id": "BbAjW7qOrWo6"
    },
    {
      "cell_type": "code",
      "execution_count": null,
      "id": "0c4a58b7-eb18-405f-9a19-c83775c9392a",
      "metadata": {
        "colab": {
          "base_uri": "https://localhost:8080/",
          "height": 1000
        },
        "id": "0c4a58b7-eb18-405f-9a19-c83775c9392a",
        "outputId": "0be3b7db-5f20-4982-be05-03832650ebac"
      },
      "outputs": [
        {
          "output_type": "display_data",
          "data": {
            "text/plain": [
              "<Figure size 800x600 with 1 Axes>"
            ],
            "image/png": "[encoded data removed]"
          },
          "metadata": {}
        },
        {
          "output_type": "display_data",
          "data": {
            "text/plain": [
              "<Figure size 1200x600 with 1 Axes>"
            ],
            "image/png": "[encoded data removed]"
          },
          "metadata": {}
        }
      ],
      "source": [
        "plt.figure(figsize=(8, 6))\n",
        "sns.countplot(x='sentiment', data=dataset)\n",
        "plt.title('Sentiment Distribution in Sampled Dataset')\n",
        "plt.xlabel('Sentiment')\n",
        "plt.ylabel('Count')\n",
        "plt.show()\n",
        "\n",
        "dataset['review_length'] = dataset['review'].apply(len)\n",
        "plt.figure(figsize=(12, 6))\n",
        "sns.histplot(data=dataset, x='review_length', hue='sentiment', element='step', stat='density', common_norm=False)\n",
        "plt.title('Distribution of Review Lengths by Sentiment')\n",
        "plt.xlabel('Review Length')\n",
        "plt.ylabel('Density')\n",
        "plt.legend(title='Sentiment', labels=['Negative', 'Positive'])\n",
        "plt.show()\n"
      ]
    },
    {
      "cell_type": "markdown",
      "source": [
        "**Data Preprocessing**"
      ],
      "metadata": {
        "id": "Vdx_Uec0rhuV"
      },
      "id": "Vdx_Uec0rhuV"
    },
    {
      "cell_type": "markdown",
      "source": [
        "Dataset is processed using spacy framework. Our dataset has 50000 records, we have used random stratified sampling technique to get sample dataset. We have checked for missing values and datatype of each feature using Panda’s library. Further, we did preprocess using spacy functionality that includes various operations like lowercase conversion, removing stop words, removing punctuation, considering only alphanumeric values, lemmatisation.\n"
      ],
      "metadata": {
        "id": "LCqR6TFJzyw4"
      },
      "id": "LCqR6TFJzyw4"
    },
    {
      "cell_type": "code",
      "execution_count": null,
      "id": "2d5e8d5c-a912-4c9b-a90f-5ed10510f205",
      "metadata": {
        "id": "2d5e8d5c-a912-4c9b-a90f-5ed10510f205"
      },
      "outputs": [],
      "source": [
        "def preprocess_text(text):\n",
        "    text = text.lower()\n",
        "    tokens = nlp(text)\n",
        "    filtered_tokens = [token.text for token in tokens if token.text not in STOP_WORDS and token.text not in string.punctuation]\n",
        "    alphanumeric_tokens = [token for token in filtered_tokens if token.isalnum()]\n",
        "\n",
        "    return ' '.join(alphanumeric_tokens)"
      ]
    },
    {
      "cell_type": "code",
      "execution_count": null,
      "id": "f55e82cf-de33-4f3f-b505-537ee2b5f9bb",
      "metadata": {
        "colab": {
          "base_uri": "https://localhost:8080/"
        },
        "id": "f55e82cf-de33-4f3f-b505-537ee2b5f9bb",
        "outputId": "74928716-c044-4f43-96fb-d246a5405e39"
      },
      "outputs": [
        {
          "output_type": "stream",
          "name": "stdout",
          "text": [
            "First few rows of the pre-processed IMDb Review dataset:\n",
            "                                              review  \\\n",
            "0  Jim Carrey and Morgan Freeman along with Jenni...   \n",
            "1  I thought Choke had potential, but I thought i...   \n",
            "2  Sophisticated sex comedies are always difficul...   \n",
            "3  It's up there with Where's Poppa, The Groove T...   \n",
            "4  The narrative affirms the classic image of goo...   \n",
            "\n",
            "                                 preprocessed_review sentiment  \n",
            "0  jim carrey morgan freeman jennifer aniston com...  positive  \n",
            "1  thought choke potential thought better film in...  negative  \n",
            "2  sophisticated sex comedies difficult pull look...  positive  \n",
            "3  poppa groove tube putney swope memorializes ny...  positive  \n",
            "4  narrative affirms classic image good versus ev...  positive  \n"
          ]
        }
      ],
      "source": [
        "dataset['preprocessed_review'] = dataset['review'].apply(preprocess_text)\n",
        "\n",
        "print(\"First few rows of the pre-processed IMDb Review dataset:\")\n",
        "print(dataset[['review', 'preprocessed_review', 'sentiment']].head())"
      ]
    },
    {
      "cell_type": "markdown",
      "source": [
        "Visualisation of dataset with word cloud."
      ],
      "metadata": {
        "id": "LWnY63RRrnRh"
      },
      "id": "LWnY63RRrnRh"
    },
    {
      "cell_type": "code",
      "source": [
        "from wordcloud import WordCloud"
      ],
      "metadata": {
        "id": "ex8178US2Si4"
      },
      "id": "ex8178US2Si4",
      "execution_count": null,
      "outputs": []
    },
    {
      "cell_type": "code",
      "source": [
        "def word_cloud(data: str):\n",
        "    wordcloud = WordCloud().generate(data)\n",
        "    plt.imshow(wordcloud, interpolation='bilinear')\n",
        "    plt.axis(\"off\")\n",
        "    plt.show()"
      ],
      "metadata": {
        "id": "hzoTtbLz2XNP"
      },
      "id": "hzoTtbLz2XNP",
      "execution_count": null,
      "outputs": []
    },
    {
      "cell_type": "code",
      "source": [
        "review_data = list(dataset['review'])"
      ],
      "metadata": {
        "id": "BToanu-p2mqo"
      },
      "id": "BToanu-p2mqo",
      "execution_count": null,
      "outputs": []
    },
    {
      "cell_type": "code",
      "source": [
        "for i in range(len(review_data)):\n",
        "    review_data2 = \"\".join(review_data[i])"
      ],
      "metadata": {
        "id": "ANwDwXCF2YAI"
      },
      "id": "ANwDwXCF2YAI",
      "execution_count": null,
      "outputs": []
    },
    {
      "cell_type": "code",
      "source": [
        "word_cloud(review_data2)"
      ],
      "metadata": {
        "colab": {
          "base_uri": "https://localhost:8080/",
          "height": 285
        },
        "id": "8BjITTEL2zhK",
        "outputId": "5d450685-a4ac-485e-d73d-aef6d2c35203"
      },
      "id": "8BjITTEL2zhK",
      "execution_count": null,
      "outputs": [
        {
          "output_type": "display_data",
          "data": {
            "text/plain": [
              "<Figure size 640x480 with 1 Axes>"
            ],
            "image/png": "[encoded data removed]"
          },
          "metadata": {}
        }
      ]
    },
    {
      "cell_type": "markdown",
      "source": [
        "Data analysis using NLP features."
      ],
      "metadata": {
        "id": "JHX4HutOrs6d"
      },
      "id": "JHX4HutOrs6d"
    },
    {
      "cell_type": "code",
      "execution_count": null,
      "id": "0cc75593-f66d-4728-8a15-310c94b90064",
      "metadata": {
        "id": "0cc75593-f66d-4728-8a15-310c94b90064"
      },
      "outputs": [],
      "source": [
        "def advanced_nlp_tasks(text):\n",
        "    text = text.lower()\n",
        "\n",
        "    doc = nlp(text)\n",
        "    lemmatized_tokens = []\n",
        "    pos_tags = []\n",
        "    syntactic_relations = []\n",
        "    named_entities = []\n",
        "    numeric_symbols_punctuations = []\n",
        "    # spacy_vec = []\n",
        "\n",
        "    for token in doc:\n",
        "        if token.text not in STOP_WORDS and token.text not in string.punctuation:\n",
        "            # Lemmatization\n",
        "            lemmatized_tokens.append(token.lemma_)\n",
        "            pos_tags.append(token.pos_)\n",
        "            # spacy_vec.append(token.vector)\n",
        "\n",
        "            # Syntactic relations\n",
        "            syntactic_relations.append((token.head.text, token.dep_))\n",
        "\n",
        "            # Named entity extraction\n",
        "            named_entities.append(token.ent_type_ if token.ent_type_ else 'Not an entity')\n",
        "\n",
        "            if token.like_num:\n",
        "                numeric_symbols_punctuations.append('Numeric')\n",
        "            elif token.is_punct:\n",
        "                numeric_symbols_punctuations.append('Punctuation')\n",
        "            elif token.is_space:\n",
        "                numeric_symbols_punctuations.append('Space')\n",
        "            else:\n",
        "                numeric_symbols_punctuations.append('Symbolic')\n",
        "\n",
        "    if not lemmatized_tokens:\n",
        "        print(\"No valid tokens found after preprocessing.\")\n",
        "        return pd.Series({\n",
        "            'lemmatized_tokens': '',\n",
        "            'pos_tags': '',\n",
        "            'syntactic_relations': [],\n",
        "            'named_entities': '',\n",
        "            'numeric_symbols_punctuations': '',\n",
        "            'count_vector': None,\n",
        "            'parsed_tree': None\n",
        "            # 'word2vec_model': None,\n",
        "            # 'spacy_vec':None\n",
        "        })\n",
        "\n",
        "    vectorizer = CountVectorizer()\n",
        "    count_vector = vectorizer.fit_transform([\" \".join(lemmatized_tokens)])\n",
        "\n",
        "\n",
        "\n",
        "    # word2vec_model = Word2Vec([lemmatized_tokens], vector_size=100, window=5, min_count=1, workers=4)\n",
        "    # word2vec_model.train([lemmatized_tokens], total_examples=len(lemmatized_tokens), epochs=10)\n",
        "\n",
        "    grammar = \"NP: {<DT>?<JJ>*<NN>}\"\n",
        "    chunk_parser = RegexpParser(grammar)\n",
        "    parsed_tree = chunk_parser.parse(nltk.pos_tag(lemmatized_tokens))\n",
        "\n",
        "    return pd.Series({\n",
        "        'lemmatized_tokens': ' '.join(lemmatized_tokens),\n",
        "        'pos_tags': ' '.join(pos_tags),\n",
        "        'syntactic_relations': syntactic_relations,\n",
        "        'named_entities': ' '.join(named_entities),\n",
        "        'numeric_symbols_punctuations': ' '.join(numeric_symbols_punctuations),\n",
        "        'count_vector': count_vector.toarray().flatten(),\n",
        "        'parsed_tree': parsed_tree\n",
        "        # 'word2vec_model': word2vec_model,\n",
        "        # 'spacy_vec':spacy_vec\n",
        "    })\n",
        "\n",
        "advanced_nlp_results = dataset['preprocessed_review'].apply(advanced_nlp_tasks)\n",
        "dataset = pd.concat([dataset, advanced_nlp_results], axis=1)\n",
        "\n",
        "# print(\"First few rows of the IMDb Review dataset with advanced NLP results:\")\n",
        "# print(dataset.head())\n"
      ]
    },
    {
      "cell_type": "markdown",
      "source": [
        "Implemented Lemmatization, Syntactic relations, Named entity extraction, addressed punctuations removal, spaces, symbols.\n"
      ],
      "metadata": {
        "id": "dZrlwS-Hwp7F"
      },
      "id": "dZrlwS-Hwp7F"
    },
    {
      "cell_type": "code",
      "source": [
        "print(\"First few rows of the IMDb Review dataset with advanced NLP results:\")\n",
        "print(dataset.head())"
      ],
      "metadata": {
        "colab": {
          "base_uri": "https://localhost:8080/"
        },
        "id": "XnPoyiLQTakj",
        "outputId": "bbfa3ff3-655c-4f5f-db29-b1ed3ea0d2ab"
      },
      "id": "XnPoyiLQTakj",
      "execution_count": null,
      "outputs": [
        {
          "output_type": "stream",
          "name": "stdout",
          "text": [
            "First few rows of the IMDb Review dataset with advanced NLP results:\n",
            "                                              review sentiment  review_length  \\\n",
            "0  Jim Carrey and Morgan Freeman along with Jenni...  positive            930   \n",
            "1  I thought Choke had potential, but I thought i...  negative            708   \n",
            "2  Sophisticated sex comedies are always difficul...  positive           3471   \n",
            "3  It's up there with Where's Poppa, The Groove T...  positive           1257   \n",
            "4  The narrative affirms the classic image of goo...  positive           3115   \n",
            "\n",
            "                                 preprocessed_review  \\\n",
            "0  jim carrey morgan freeman jennifer aniston com...   \n",
            "1  thought choke potential thought better film in...   \n",
            "2  sophisticated sex comedies difficult pull look...   \n",
            "3  poppa groove tube putney swope memorializes ny...   \n",
            "4  narrative affirms classic image good versus ev...   \n",
            "\n",
            "                                   lemmatized_tokens  \\\n",
            "0  jim carrey morgan freeman jennifer aniston com...   \n",
            "1  think choke potential think well film interest...   \n",
            "2  sophisticated sex comedy difficult pull look f...   \n",
            "3  poppa groove tube putney swope memorialize ny ...   \n",
            "4  narrative affirm classic image good versus evi...   \n",
            "\n",
            "                                            pos_tags  \\\n",
            "0  PROPN PROPN PROPN PROPN PROPN PROPN PROPN NOUN...   \n",
            "1  VERB PROPN ADJ VERB ADJ NOUN ADJ NOUN VERB ADV...   \n",
            "2  ADJ NOUN NOUN ADJ VERB NOUN NOUN ADJ PROPN ADV...   \n",
            "3  PROPN NOUN PROPN PROPN PROPN VERB PROPN NOUN N...   \n",
            "4  NOUN VERB ADJ NOUN ADJ ADP ADJ NOUN VERB PROPN...   \n",
            "\n",
            "                                 syntactic_relations  \\\n",
            "0  [(aniston, compound), (aniston, compound), (an...   \n",
            "1  [(thought, ROOT), (potential, compound), (thou...   \n",
            "2  [(comedies, amod), (comedies, compound), (diff...   \n",
            "3  [(groove, compound), (tube, compound), (swope,...   \n",
            "4  [(affirms, nsubj), (affirms, ROOT), (image, am...   \n",
            "\n",
            "                                      named_entities  \\\n",
            "0  PERSON PERSON PERSON PERSON PERSON PERSON Not ...   \n",
            "1  Not an entity Not an entity Not an entity Not ...   \n",
            "2  Not an entity Not an entity Not an entity Not ...   \n",
            "3  Not an entity Not an entity Not an entity Not ...   \n",
            "4  Not an entity Not an entity Not an entity Not ...   \n",
            "\n",
            "                        numeric_symbols_punctuations  \\\n",
            "0  Symbolic Symbolic Symbolic Symbolic Symbolic S...   \n",
            "1  Symbolic Symbolic Symbolic Symbolic Symbolic S...   \n",
            "2  Symbolic Symbolic Symbolic Symbolic Symbolic S...   \n",
            "3  Symbolic Symbolic Symbolic Symbolic Symbolic S...   \n",
            "4  Symbolic Symbolic Symbolic Symbolic Symbolic S...   \n",
            "\n",
            "                                        count_vector  \\\n",
            "0  [1, 1, 1, 1, 1, 1, 1, 1, 4, 1, 1, 2, 1, 1, 1, ...   \n",
            "1  [1, 1, 1, 1, 1, 1, 1, 1, 1, 1, 1, 1, 1, 1, 1, ...   \n",
            "2  [1, 1, 1, 3, 2, 1, 3, 1, 1, 1, 1, 1, 1, 1, 2, ...   \n",
            "3  [1, 1, 1, 1, 1, 1, 1, 1, 1, 1, 1, 1, 1, 1, 2, ...   \n",
            "4  [4, 1, 1, 1, 1, 1, 1, 1, 1, 1, 1, 1, 1, 1, 1, ...   \n",
            "\n",
            "                                         parsed_tree  \n",
            "0  [[(jim, NN)], [(carrey, NN)], [(morgan, JJ), (...  \n",
            "1  [(think, VB), (choke, VBD), [(potential, JJ), ...  \n",
            "2  [[(sophisticated, JJ), (sex, NN)], [(comedy, N...  \n",
            "3  [[(poppa, NN)], [(groove, NN)], [(tube, NN)], ...  \n",
            "4  [[(narrative, JJ), (affirm, NN)], [(classic, J...  \n"
          ]
        }
      ]
    },
    {
      "cell_type": "code",
      "source": [
        "dataset.columns"
      ],
      "metadata": {
        "colab": {
          "base_uri": "https://localhost:8080/"
        },
        "id": "O9dIXd8vTd-C",
        "outputId": "dfd5bb14-070d-4794-a2a5-1e725baf5c0f"
      },
      "id": "O9dIXd8vTd-C",
      "execution_count": null,
      "outputs": [
        {
          "output_type": "execute_result",
          "data": {
            "text/plain": [
              "Index(['review', 'sentiment', 'review_length', 'preprocessed_review',\n",
              "       'lemmatized_tokens', 'pos_tags', 'syntactic_relations',\n",
              "       'named_entities', 'numeric_symbols_punctuations', 'count_vector',\n",
              "       'parsed_tree'],\n",
              "      dtype='object')"
            ]
          },
          "metadata": {},
          "execution_count": 19
        }
      ]
    },
    {
      "cell_type": "code",
      "source": [
        "\n",
        "dataset.shape"
      ],
      "metadata": {
        "colab": {
          "base_uri": "https://localhost:8080/"
        },
        "id": "340quQ3OX1hC",
        "outputId": "fe75354d-5abc-425a-9cc2-f4fe4942deab"
      },
      "id": "340quQ3OX1hC",
      "execution_count": null,
      "outputs": [
        {
          "output_type": "execute_result",
          "data": {
            "text/plain": [
              "(2000, 11)"
            ]
          },
          "metadata": {},
          "execution_count": 20
        }
      ]
    },
    {
      "cell_type": "markdown",
      "source": [
        "**Word Embedding using spacy.**"
      ],
      "metadata": {
        "id": "qJAsncdWr6Jv"
      },
      "id": "qJAsncdWr6Jv"
    },
    {
      "cell_type": "code",
      "source": [
        "# glove word embedding\n",
        "processed_docs = list(nlp.pipe(dataset['lemmatized_tokens']))\n",
        "spacy_vectors = np.array([doc.vector for doc in processed_docs])\n",
        "spacy_vectors"
      ],
      "metadata": {
        "colab": {
          "base_uri": "https://localhost:8080/"
        },
        "id": "vMw9Zos2wFXd",
        "outputId": "113d221f-86be-4ddd-b190-0ff948a72525"
      },
      "id": "vMw9Zos2wFXd",
      "execution_count": null,
      "outputs": [
        {
          "output_type": "execute_result",
          "data": {
            "text/plain": [
              "array([[ 0.08551635, -0.7443628 ,  0.09509701, ...,  0.79015476,\n",
              "        -0.13801844,  0.03069345],\n",
              "       [ 0.05372489, -0.8166252 ,  0.13644557, ...,  0.7126864 ,\n",
              "        -0.24716432,  0.13149934],\n",
              "       [ 0.07153264, -0.83145285,  0.12526244, ...,  0.7564315 ,\n",
              "        -0.20528096,  0.09742786],\n",
              "       ...,\n",
              "       [-0.06497436, -0.83711034,  0.11688121, ...,  0.7066653 ,\n",
              "        -0.17023198,  0.16269402],\n",
              "       [ 0.04391935, -0.82534945,  0.06085311, ...,  0.7433238 ,\n",
              "        -0.1961407 ,  0.07150718],\n",
              "       [ 0.08578906, -0.8179814 ,  0.02199483, ...,  0.7946806 ,\n",
              "        -0.15257552,  0.14231846]], dtype=float32)"
            ]
          },
          "metadata": {},
          "execution_count": 21
        }
      ]
    },
    {
      "cell_type": "code",
      "source": [
        "spacy_vectors.shape"
      ],
      "metadata": {
        "colab": {
          "base_uri": "https://localhost:8080/"
        },
        "id": "49unhPbAwoh7",
        "outputId": "073c8714-1add-41d4-e204-2d01e97369a1"
      },
      "id": "49unhPbAwoh7",
      "execution_count": null,
      "outputs": [
        {
          "output_type": "execute_result",
          "data": {
            "text/plain": [
              "(2000, 96)"
            ]
          },
          "metadata": {},
          "execution_count": 22
        }
      ]
    },
    {
      "cell_type": "markdown",
      "source": [
        "In the below code, we have plotted dependency parsing visualisation using displacy. It is working, but it takes much more time to execute therefore, we are commenting it out."
      ],
      "metadata": {
        "id": "hSlUl-dqsBFQ"
      },
      "id": "hSlUl-dqsBFQ"
    },
    {
      "cell_type": "markdown",
      "source": [
        "**Modelling:**\n",
        "\n",
        "1.   SVM Algorithm\n",
        "2.   Logistic Regression Model\n",
        "3.   Naive Bayes Algorithm\n",
        "4.   Decision Tree Algorithm\n",
        "5.   Spacy built-in Neural Network Model\n",
        "\n"
      ],
      "metadata": {
        "id": "QQ3lq9PfsZkE"
      },
      "id": "QQ3lq9PfsZkE"
    },
    {
      "cell_type": "markdown",
      "source": [
        "Model Selection:\n",
        "\n",
        "Our dataset is related to sentiment analysis. There two features available in the dataset, reviews feature is an independent feature and Sentiment feature has two unique values is a dependent variable, It a classification problem under supervised learning. Therefore, we have used four different classification models in our project. We have used Logistic Regression, Support Vector Machine algorithm, Naive Bayed Model, Decision Tree model and Spacy built-in neural network model.\n"
      ],
      "metadata": {
        "id": "KbYfawuqz6zx"
      },
      "id": "KbYfawuqz6zx"
    },
    {
      "cell_type": "markdown",
      "source": [
        "# *Support Vector Machine*\n"
      ],
      "metadata": {
        "id": "LhmjUFW2jB6E"
      },
      "id": "LhmjUFW2jB6E"
    },
    {
      "cell_type": "markdown",
      "source": [
        "Importing necessary libraries."
      ],
      "metadata": {
        "id": "eS9eUO7atEZr"
      },
      "id": "eS9eUO7atEZr"
    },
    {
      "cell_type": "code",
      "source": [
        "from sklearn.model_selection import train_test_split\n",
        "from sklearn.svm import SVC\n",
        "from sklearn.feature_extraction.text import CountVectorizer\n",
        "from sklearn.pipeline import Pipeline\n",
        "from sklearn.metrics import classification_report, accuracy_score, confusion_matrix"
      ],
      "metadata": {
        "id": "MSOSuOxhTd4m"
      },
      "id": "MSOSuOxhTd4m",
      "execution_count": null,
      "outputs": []
    },
    {
      "cell_type": "markdown",
      "source": [
        "Data spliting"
      ],
      "metadata": {
        "id": "YWbKVxtytDya"
      },
      "id": "YWbKVxtytDya"
    },
    {
      "cell_type": "code",
      "source": [
        "X_train, X_test, y_train, y_test = train_test_split(dataset['lemmatized_tokens'], dataset['sentiment'], test_size=0.2, random_state=42 )"
      ],
      "metadata": {
        "id": "BZeSLdNATd2L"
      },
      "id": "BZeSLdNATd2L",
      "execution_count": null,
      "outputs": []
    },
    {
      "cell_type": "code",
      "source": [
        "def tokenize(text):\n",
        "    nlp = spacy.blank('xx')\n",
        "    return [token.text for token in nlp(text)]"
      ],
      "metadata": {
        "id": "2FSHn09-dUOK"
      },
      "id": "2FSHn09-dUOK",
      "execution_count": null,
      "outputs": []
    },
    {
      "cell_type": "code",
      "source": [
        "pipeline = Pipeline([\n",
        "    # ('vectorizer', CountVectorizer(tokenizer=tokenize)),\n",
        "    ('vectorizer', TfidfVectorizer(tokenizer=tokenize)),\n",
        "    ('classifier', SVC(kernel='linear'))\n",
        "])"
      ],
      "metadata": {
        "id": "6VOQ2c3xTdzg"
      },
      "id": "6VOQ2c3xTdzg",
      "execution_count": null,
      "outputs": []
    },
    {
      "cell_type": "markdown",
      "source": [
        "Model Training"
      ],
      "metadata": {
        "id": "VjZpOwmQtPDa"
      },
      "id": "VjZpOwmQtPDa"
    },
    {
      "cell_type": "code",
      "source": [
        "pipeline.fit(X_train, y_train)"
      ],
      "metadata": {
        "colab": {
          "base_uri": "https://localhost:8080/",
          "height": 163
        },
        "id": "vbnLYr3STdw8",
        "outputId": "b9c0a94d-68ad-42a0-cf7d-384f516f4d6f"
      },
      "id": "vbnLYr3STdw8",
      "execution_count": null,
      "outputs": [
        {
          "output_type": "stream",
          "name": "stderr",
          "text": [
            "/usr/local/lib/python3.10/dist-packages/sklearn/feature_extraction/text.py:528: UserWarning: The parameter 'token_pattern' will not be used since 'tokenizer' is not None'\n",
            "  warnings.warn(\n"
          ]
        },
        {
          "output_type": "execute_result",
          "data": {
            "text/plain": [
              "Pipeline(steps=[('vectorizer',\n",
              "                 TfidfVectorizer(tokenizer=<function tokenize at 0x7813adbf3f40>)),\n",
              "                ('classifier', SVC(kernel='linear'))])"
            ],
            "text/html": [
              "<style>#sk-container-id-1 {color: black;background-color: white;}#sk-container-id-1 pre{padding: 0;}#sk-container-id-1 div.sk-toggleable {background-color: white;}#sk-container-id-1 label.sk-toggleable__label {cursor: pointer;display: block;width: 100%;margin-bottom: 0;padding: 0.3em;box-sizing: border-box;text-align: center;}#sk-container-id-1 label.sk-toggleable__label-arrow:before {content: \"▸\";float: left;margin-right: 0.25em;color: #696969;}#sk-container-id-1 label.sk-toggleable__label-arrow:hover:before {color: black;}#sk-container-id-1 div.sk-estimator:hover label.sk-toggleable__label-arrow:before {color: black;}#sk-container-id-1 div.sk-toggleable__content {max-height: 0;max-width: 0;overflow: hidden;text-align: left;background-color: #f0f8ff;}#sk-container-id-1 div.sk-toggleable__content pre {margin: 0.2em;color: black;border-radius: 0.25em;background-color: #f0f8ff;}#sk-container-id-1 input.sk-toggleable__control:checked~div.sk-toggleable__content {max-height: 200px;max-width: 100%;overflow: auto;}#sk-container-id-1 input.sk-toggleable__control:checked~label.sk-toggleable__label-arrow:before {content: \"▾\";}#sk-container-id-1 div.sk-estimator input.sk-toggleable__control:checked~label.sk-toggleable__label {background-color: #d4ebff;}#sk-container-id-1 div.sk-label input.sk-toggleable__control:checked~label.sk-toggleable__label {background-color: #d4ebff;}#sk-container-id-1 input.sk-hidden--visually {border: 0;clip: rect(1px 1px 1px 1px);clip: rect(1px, 1px, 1px, 1px);height: 1px;margin: -1px;overflow: hidden;padding: 0;position: absolute;width: 1px;}#sk-container-id-1 div.sk-estimator {font-family: monospace;background-color: #f0f8ff;border: 1px dotted black;border-radius: 0.25em;box-sizing: border-box;margin-bottom: 0.5em;}#sk-container-id-1 div.sk-estimator:hover {background-color: #d4ebff;}#sk-container-id-1 div.sk-parallel-item::after {content: \"\";width: 100%;border-bottom: 1px solid gray;flex-grow: 1;}#sk-container-id-1 div.sk-label:hover label.sk-toggleable__label {background-color: #d4ebff;}#sk-container-id-1 div.sk-serial::before {content: \"\";position: absolute;border-left: 1px solid gray;box-sizing: border-box;top: 0;bottom: 0;left: 50%;z-index: 0;}#sk-container-id-1 div.sk-serial {display: flex;flex-direction: column;align-items: center;background-color: white;padding-right: 0.2em;padding-left: 0.2em;position: relative;}#sk-container-id-1 div.sk-item {position: relative;z-index: 1;}#sk-container-id-1 div.sk-parallel {display: flex;align-items: stretch;justify-content: center;background-color: white;position: relative;}#sk-container-id-1 div.sk-item::before, #sk-container-id-1 div.sk-parallel-item::before {content: \"\";position: absolute;border-left: 1px solid gray;box-sizing: border-box;top: 0;bottom: 0;left: 50%;z-index: -1;}#sk-container-id-1 div.sk-parallel-item {display: flex;flex-direction: column;z-index: 1;position: relative;background-color: white;}#sk-container-id-1 div.sk-parallel-item:first-child::after {align-self: flex-end;width: 50%;}#sk-container-id-1 div.sk-parallel-item:last-child::after {align-self: flex-start;width: 50%;}#sk-container-id-1 div.sk-parallel-item:only-child::after {width: 0;}#sk-container-id-1 div.sk-dashed-wrapped {border: 1px dashed gray;margin: 0 0.4em 0.5em 0.4em;box-sizing: border-box;padding-bottom: 0.4em;background-color: white;}#sk-container-id-1 div.sk-label label {font-family: monospace;font-weight: bold;display: inline-block;line-height: 1.2em;}#sk-container-id-1 div.sk-label-container {text-align: center;}#sk-container-id-1 div.sk-container {/* jupyter's `normalize.less` sets `[hidden] { display: none; }` but bootstrap.min.css set `[hidden] { display: none !important; }` so we also need the `!important` here to be able to override the default hidden behavior on the sphinx rendered scikit-learn.org. See: https://github.com/scikit-learn/scikit-learn/issues/21755 */display: inline-block !important;position: relative;}#sk-container-id-1 div.sk-text-repr-fallback {display: none;}</style><div id=\"sk-container-id-1\" class=\"sk-top-container\"><div class=\"sk-text-repr-fallback\"><pre>Pipeline(steps=[(&#x27;vectorizer&#x27;,\n",
              "                 TfidfVectorizer(tokenizer=&lt;function tokenize at 0x7813adbf3f40&gt;)),\n",
              "                (&#x27;classifier&#x27;, SVC(kernel=&#x27;linear&#x27;))])</pre><b>In a Jupyter environment, please rerun this cell to show the HTML representation or trust the notebook. <br />On GitHub, the HTML representation is unable to render, please try loading this page with nbviewer.org.</b></div><div class=\"sk-container\" hidden><div class=\"sk-item sk-dashed-wrapped\"><div class=\"sk-label-container\"><div class=\"sk-label sk-toggleable\"><input class=\"sk-toggleable__control sk-hidden--visually\" id=\"sk-estimator-id-1\" type=\"checkbox\" ><label for=\"sk-estimator-id-1\" class=\"sk-toggleable__label sk-toggleable__label-arrow\">Pipeline</label><div class=\"sk-toggleable__content\"><pre>Pipeline(steps=[(&#x27;vectorizer&#x27;,\n",
              "                 TfidfVectorizer(tokenizer=&lt;function tokenize at 0x7813adbf3f40&gt;)),\n",
              "                (&#x27;classifier&#x27;, SVC(kernel=&#x27;linear&#x27;))])</pre></div></div></div><div class=\"sk-serial\"><div class=\"sk-item\"><div class=\"sk-estimator sk-toggleable\"><input class=\"sk-toggleable__control sk-hidden--visually\" id=\"sk-estimator-id-2\" type=\"checkbox\" ><label for=\"sk-estimator-id-2\" class=\"sk-toggleable__label sk-toggleable__label-arrow\">TfidfVectorizer</label><div class=\"sk-toggleable__content\"><pre>TfidfVectorizer(tokenizer=&lt;function tokenize at 0x7813adbf3f40&gt;)</pre></div></div></div><div class=\"sk-item\"><div class=\"sk-estimator sk-toggleable\"><input class=\"sk-toggleable__control sk-hidden--visually\" id=\"sk-estimator-id-3\" type=\"checkbox\" ><label for=\"sk-estimator-id-3\" class=\"sk-toggleable__label sk-toggleable__label-arrow\">SVC</label><div class=\"sk-toggleable__content\"><pre>SVC(kernel=&#x27;linear&#x27;)</pre></div></div></div></div></div></div></div>"
            ]
          },
          "metadata": {},
          "execution_count": 28
        }
      ]
    },
    {
      "cell_type": "markdown",
      "source": [
        "Model Prediction"
      ],
      "metadata": {
        "id": "x25y9m3wtRjL"
      },
      "id": "x25y9m3wtRjL"
    },
    {
      "cell_type": "code",
      "source": [
        "predictions = pipeline.predict(X_test)"
      ],
      "metadata": {
        "id": "KyGDl_eZTduO"
      },
      "id": "KyGDl_eZTduO",
      "execution_count": null,
      "outputs": []
    },
    {
      "cell_type": "markdown",
      "source": [
        "Model Evaluation"
      ],
      "metadata": {
        "id": "3pRslNpbtTS2"
      },
      "id": "3pRslNpbtTS2"
    },
    {
      "cell_type": "code",
      "source": [
        "print('Accuracy', accuracy_score(y_test, predictions))\n",
        "print('\\nClassification Report;\\n', classification_report(y_test, predictions))"
      ],
      "metadata": {
        "colab": {
          "base_uri": "https://localhost:8080/"
        },
        "id": "B26cbLWOTdrf",
        "outputId": "8f5a5136-201c-4042-8cd9-28fc0b152ea2"
      },
      "id": "B26cbLWOTdrf",
      "execution_count": null,
      "outputs": [
        {
          "output_type": "stream",
          "name": "stdout",
          "text": [
            "Accuracy 0.8375\n",
            "\n",
            "Classification Report;\n",
            "               precision    recall  f1-score   support\n",
            "\n",
            "    negative       0.89      0.79      0.84       213\n",
            "    positive       0.79      0.89      0.84       187\n",
            "\n",
            "    accuracy                           0.84       400\n",
            "   macro avg       0.84      0.84      0.84       400\n",
            "weighted avg       0.84      0.84      0.84       400\n",
            "\n"
          ]
        }
      ]
    },
    {
      "cell_type": "code",
      "source": [
        " sns.heatmap(confusion_matrix(y_test, predictions), annot=True, fmt='d')"
      ],
      "metadata": {
        "colab": {
          "base_uri": "https://localhost:8080/",
          "height": 448
        },
        "id": "Pgx6-XSXHvAp",
        "outputId": "7fcc0218-68f1-494a-864e-c3c6f24273e8"
      },
      "id": "Pgx6-XSXHvAp",
      "execution_count": null,
      "outputs": [
        {
          "output_type": "execute_result",
          "data": {
            "text/plain": [
              "<Axes: >"
            ]
          },
          "metadata": {},
          "execution_count": 31
        },
        {
          "output_type": "display_data",
          "data": {
            "text/plain": [
              "<Figure size 640x480 with 2 Axes>"
            ],
            "image/png": "[encoded data removed]"
          },
          "metadata": {}
        }
      ]
    },
    {
      "cell_type": "markdown",
      "source": [
        "# Logistic Regression\n"
      ],
      "metadata": {
        "id": "ExWICrQTBVCM"
      },
      "id": "ExWICrQTBVCM"
    },
    {
      "cell_type": "markdown",
      "source": [
        "Importing necessary libraries."
      ],
      "metadata": {
        "id": "YHaGsIhmtaqI"
      },
      "id": "YHaGsIhmtaqI"
    },
    {
      "cell_type": "code",
      "source": [
        "from sklearn.feature_extraction.text import TfidfVectorizer\n",
        "from sklearn.linear_model import LogisticRegression"
      ],
      "metadata": {
        "id": "bZ7bd3FFTdor"
      },
      "id": "bZ7bd3FFTdor",
      "execution_count": null,
      "outputs": []
    },
    {
      "cell_type": "markdown",
      "source": [
        "Converting text to Vector"
      ],
      "metadata": {
        "id": "hPKhubCbtdOX"
      },
      "id": "hPKhubCbtdOX"
    },
    {
      "cell_type": "code",
      "source": [
        "tfidfvectorizer = TfidfVectorizer()\n",
        "X = tfidfvectorizer.fit_transform(dataset['lemmatized_tokens'])\n",
        "# X = spacy_vectors\n",
        "y = dataset['sentiment']"
      ],
      "metadata": {
        "id": "VJiqQpXQTdmD"
      },
      "id": "VJiqQpXQTdmD",
      "execution_count": null,
      "outputs": []
    },
    {
      "cell_type": "markdown",
      "source": [
        "Dataset Splitting"
      ],
      "metadata": {
        "id": "Bm0tIwe4tgrC"
      },
      "id": "Bm0tIwe4tgrC"
    },
    {
      "cell_type": "code",
      "source": [
        "X_train_lg, X_test_lg, y_train_lg, y_test_lg = train_test_split(X, y, test_size=0.2, random_state=42 )"
      ],
      "metadata": {
        "id": "K_s_9Jx4TdjX"
      },
      "id": "K_s_9Jx4TdjX",
      "execution_count": null,
      "outputs": []
    },
    {
      "cell_type": "markdown",
      "source": [
        "Model Training"
      ],
      "metadata": {
        "id": "eGUxVDeqtl98"
      },
      "id": "eGUxVDeqtl98"
    },
    {
      "cell_type": "code",
      "source": [
        "LG_classifier = LogisticRegression()\n",
        "LG_classifier.fit(X_train_lg, y_train_lg)"
      ],
      "metadata": {
        "colab": {
          "base_uri": "https://localhost:8080/",
          "height": 75
        },
        "id": "95jn6KQcCIOE",
        "outputId": "437ec8c3-4aba-420a-e6d8-0041da0fb9f5"
      },
      "id": "95jn6KQcCIOE",
      "execution_count": null,
      "outputs": [
        {
          "output_type": "execute_result",
          "data": {
            "text/plain": [
              "LogisticRegression()"
            ],
            "text/html": [
              "<style>#sk-container-id-2 {color: black;background-color: white;}#sk-container-id-2 pre{padding: 0;}#sk-container-id-2 div.sk-toggleable {background-color: white;}#sk-container-id-2 label.sk-toggleable__label {cursor: pointer;display: block;width: 100%;margin-bottom: 0;padding: 0.3em;box-sizing: border-box;text-align: center;}#sk-container-id-2 label.sk-toggleable__label-arrow:before {content: \"▸\";float: left;margin-right: 0.25em;color: #696969;}#sk-container-id-2 label.sk-toggleable__label-arrow:hover:before {color: black;}#sk-container-id-2 div.sk-estimator:hover label.sk-toggleable__label-arrow:before {color: black;}#sk-container-id-2 div.sk-toggleable__content {max-height: 0;max-width: 0;overflow: hidden;text-align: left;background-color: #f0f8ff;}#sk-container-id-2 div.sk-toggleable__content pre {margin: 0.2em;color: black;border-radius: 0.25em;background-color: #f0f8ff;}#sk-container-id-2 input.sk-toggleable__control:checked~div.sk-toggleable__content {max-height: 200px;max-width: 100%;overflow: auto;}#sk-container-id-2 input.sk-toggleable__control:checked~label.sk-toggleable__label-arrow:before {content: \"▾\";}#sk-container-id-2 div.sk-estimator input.sk-toggleable__control:checked~label.sk-toggleable__label {background-color: #d4ebff;}#sk-container-id-2 div.sk-label input.sk-toggleable__control:checked~label.sk-toggleable__label {background-color: #d4ebff;}#sk-container-id-2 input.sk-hidden--visually {border: 0;clip: rect(1px 1px 1px 1px);clip: rect(1px, 1px, 1px, 1px);height: 1px;margin: -1px;overflow: hidden;padding: 0;position: absolute;width: 1px;}#sk-container-id-2 div.sk-estimator {font-family: monospace;background-color: #f0f8ff;border: 1px dotted black;border-radius: 0.25em;box-sizing: border-box;margin-bottom: 0.5em;}#sk-container-id-2 div.sk-estimator:hover {background-color: #d4ebff;}#sk-container-id-2 div.sk-parallel-item::after {content: \"\";width: 100%;border-bottom: 1px solid gray;flex-grow: 1;}#sk-container-id-2 div.sk-label:hover label.sk-toggleable__label {background-color: #d4ebff;}#sk-container-id-2 div.sk-serial::before {content: \"\";position: absolute;border-left: 1px solid gray;box-sizing: border-box;top: 0;bottom: 0;left: 50%;z-index: 0;}#sk-container-id-2 div.sk-serial {display: flex;flex-direction: column;align-items: center;background-color: white;padding-right: 0.2em;padding-left: 0.2em;position: relative;}#sk-container-id-2 div.sk-item {position: relative;z-index: 1;}#sk-container-id-2 div.sk-parallel {display: flex;align-items: stretch;justify-content: center;background-color: white;position: relative;}#sk-container-id-2 div.sk-item::before, #sk-container-id-2 div.sk-parallel-item::before {content: \"\";position: absolute;border-left: 1px solid gray;box-sizing: border-box;top: 0;bottom: 0;left: 50%;z-index: -1;}#sk-container-id-2 div.sk-parallel-item {display: flex;flex-direction: column;z-index: 1;position: relative;background-color: white;}#sk-container-id-2 div.sk-parallel-item:first-child::after {align-self: flex-end;width: 50%;}#sk-container-id-2 div.sk-parallel-item:last-child::after {align-self: flex-start;width: 50%;}#sk-container-id-2 div.sk-parallel-item:only-child::after {width: 0;}#sk-container-id-2 div.sk-dashed-wrapped {border: 1px dashed gray;margin: 0 0.4em 0.5em 0.4em;box-sizing: border-box;padding-bottom: 0.4em;background-color: white;}#sk-container-id-2 div.sk-label label {font-family: monospace;font-weight: bold;display: inline-block;line-height: 1.2em;}#sk-container-id-2 div.sk-label-container {text-align: center;}#sk-container-id-2 div.sk-container {/* jupyter's `normalize.less` sets `[hidden] { display: none; }` but bootstrap.min.css set `[hidden] { display: none !important; }` so we also need the `!important` here to be able to override the default hidden behavior on the sphinx rendered scikit-learn.org. See: https://github.com/scikit-learn/scikit-learn/issues/21755 */display: inline-block !important;position: relative;}#sk-container-id-2 div.sk-text-repr-fallback {display: none;}</style><div id=\"sk-container-id-2\" class=\"sk-top-container\"><div class=\"sk-text-repr-fallback\"><pre>LogisticRegression()</pre><b>In a Jupyter environment, please rerun this cell to show the HTML representation or trust the notebook. <br />On GitHub, the HTML representation is unable to render, please try loading this page with nbviewer.org.</b></div><div class=\"sk-container\" hidden><div class=\"sk-item\"><div class=\"sk-estimator sk-toggleable\"><input class=\"sk-toggleable__control sk-hidden--visually\" id=\"sk-estimator-id-4\" type=\"checkbox\" checked><label for=\"sk-estimator-id-4\" class=\"sk-toggleable__label sk-toggleable__label-arrow\">LogisticRegression</label><div class=\"sk-toggleable__content\"><pre>LogisticRegression()</pre></div></div></div></div></div>"
            ]
          },
          "metadata": {},
          "execution_count": 35
        }
      ]
    },
    {
      "cell_type": "markdown",
      "source": [
        "Predict and evalutate"
      ],
      "metadata": {
        "id": "7xguc3Fqtq-e"
      },
      "id": "7xguc3Fqtq-e"
    },
    {
      "cell_type": "code",
      "source": [
        "y_pred_lg = LG_classifier.predict(X_test_lg)\n",
        "print('Accuracy', accuracy_score(y_test_lg,y_pred_lg))"
      ],
      "metadata": {
        "colab": {
          "base_uri": "https://localhost:8080/"
        },
        "id": "tPGPKD2QCILg",
        "outputId": "c0c1939a-b5e1-446a-d51f-b6107e5f5915"
      },
      "id": "tPGPKD2QCILg",
      "execution_count": null,
      "outputs": [
        {
          "output_type": "stream",
          "name": "stdout",
          "text": [
            "Accuracy 0.815\n"
          ]
        }
      ]
    },
    {
      "cell_type": "code",
      "source": [
        "print(classification_report(y_test_lg,y_pred_lg))"
      ],
      "metadata": {
        "colab": {
          "base_uri": "https://localhost:8080/"
        },
        "id": "cI69bmBWuNKS",
        "outputId": "7997ba60-1c8b-4ac7-8bba-9f643a2970da"
      },
      "id": "cI69bmBWuNKS",
      "execution_count": null,
      "outputs": [
        {
          "output_type": "stream",
          "name": "stdout",
          "text": [
            "              precision    recall  f1-score   support\n",
            "\n",
            "    negative       0.91      0.73      0.81       213\n",
            "    positive       0.75      0.91      0.82       187\n",
            "\n",
            "    accuracy                           0.81       400\n",
            "   macro avg       0.83      0.82      0.81       400\n",
            "weighted avg       0.83      0.81      0.81       400\n",
            "\n"
          ]
        }
      ]
    },
    {
      "cell_type": "code",
      "source": [
        " sns.heatmap(confusion_matrix(y_test_lg,y_pred_lg), annot=True, fmt='d')"
      ],
      "metadata": {
        "colab": {
          "base_uri": "https://localhost:8080/",
          "height": 448
        },
        "id": "O9WkMJQwCIJB",
        "outputId": "ef2d0249-dfe1-4b88-9e08-de5070ed2df0"
      },
      "id": "O9WkMJQwCIJB",
      "execution_count": null,
      "outputs": [
        {
          "output_type": "execute_result",
          "data": {
            "text/plain": [
              "<Axes: >"
            ]
          },
          "metadata": {},
          "execution_count": 38
        },
        {
          "output_type": "display_data",
          "data": {
            "text/plain": [
              "<Figure size 640x480 with 2 Axes>"
            ],
            "image/png": "[encoded data removed]"
          },
          "metadata": {}
        }
      ]
    },
    {
      "cell_type": "code",
      "source": [
        "from sklearn.preprocessing import LabelBinarizer\n",
        "from sklearn.metrics import roc_curve, auc\n",
        "\n",
        "# Convert categorical labels to binary labels\n",
        "label_binarizer = LabelBinarizer()\n",
        "y_test_bin_lg = label_binarizer.fit_transform(y_test_lg)\n",
        "\n",
        "# Predict probabilities for the positive class\n",
        "y_pred_proba_lg = LG_classifier.predict_proba(X_test_lg)[:, 1]\n",
        "\n",
        "# Compute ROC curve and ROC area\n",
        "fpr_lg, tpr_lg, _ = roc_curve(y_test_bin_lg, y_pred_proba_lg)\n",
        "roc_auc_lg = auc(fpr_lg, tpr_lg)\n",
        "\n",
        "# Plot ROC curve\n",
        "plt.figure()\n",
        "plt.plot(fpr_lg, tpr_lg, color='darkorange', lw=2, label='ROC curve (area = %0.2f)' % roc_auc_lg)\n",
        "plt.plot([0, 1], [0, 1], color='navy', lw=2, linestyle='--')\n",
        "plt.xlim([0.0, 1.0])\n",
        "plt.ylim([0.0, 1.05])\n",
        "plt.xlabel('False Positive Rate')\n",
        "plt.ylabel('True Positive Rate')\n",
        "plt.title('ROC Curve - Logistic Regression Classifier')\n",
        "plt.legend(loc=\"lower right\")\n",
        "plt.show()\n",
        "\n",
        "# Print accuracy\n",
        "y_pred_lg = LG_classifier.predict(X_test_lg)\n",
        "print('Accuracy:', accuracy_score(y_test_lg, y_pred_lg))"
      ],
      "metadata": {
        "colab": {
          "base_uri": "https://localhost:8080/",
          "height": 490
        },
        "id": "hrFO4Jx9mBTy",
        "outputId": "92aa4f53-bb13-4173-c58c-eb878619faa3"
      },
      "id": "hrFO4Jx9mBTy",
      "execution_count": null,
      "outputs": [
        {
          "output_type": "display_data",
          "data": {
            "text/plain": [
              "<Figure size 640x480 with 1 Axes>"
            ],
            "image/png": "[encoded data removed]"
          },
          "metadata": {}
        },
        {
          "output_type": "stream",
          "name": "stdout",
          "text": [
            "Accuracy: 0.815\n"
          ]
        }
      ]
    },
    {
      "cell_type": "markdown",
      "source": [
        "# Naive Bayes Model"
      ],
      "metadata": {
        "id": "0MqI-C184X6Y"
      },
      "id": "0MqI-C184X6Y"
    },
    {
      "cell_type": "markdown",
      "source": [
        "Importing necessary libraries."
      ],
      "metadata": {
        "id": "bDrQ5WBatx7f"
      },
      "id": "bDrQ5WBatx7f"
    },
    {
      "cell_type": "code",
      "source": [
        "from sklearn.model_selection import train_test_split\n",
        "from sklearn.naive_bayes import GaussianNB\n",
        "from sklearn.metrics import accuracy_score\n",
        "from scipy.sparse import csr_matrix"
      ],
      "metadata": {
        "id": "pGNh1dJ2txOX"
      },
      "id": "pGNh1dJ2txOX",
      "execution_count": null,
      "outputs": []
    },
    {
      "cell_type": "markdown",
      "source": [
        "Converting text to Vector"
      ],
      "metadata": {
        "id": "oxBodTxjt2Z9"
      },
      "id": "oxBodTxjt2Z9"
    },
    {
      "cell_type": "code",
      "source": [
        "tfidfvectorizer = TfidfVectorizer()\n",
        "X = spacy_vectors #tfidfvectorizer.fit_transform(dataset['lemmatized_tokens'])\n",
        "y = dataset['sentiment']"
      ],
      "metadata": {
        "id": "_Axv2ocHt1QN"
      },
      "id": "_Axv2ocHt1QN",
      "execution_count": null,
      "outputs": []
    },
    {
      "cell_type": "markdown",
      "source": [
        "Dataset splitting"
      ],
      "metadata": {
        "id": "rypx1Ad7t7cH"
      },
      "id": "rypx1Ad7t7cH"
    },
    {
      "cell_type": "code",
      "source": [
        "X_train_nb, X_test_nb, y_train_nb, y_test_nb = train_test_split(X, y, test_size=0.2, random_state=42)"
      ],
      "metadata": {
        "id": "7upNw6Spt7_Q"
      },
      "id": "7upNw6Spt7_Q",
      "execution_count": null,
      "outputs": []
    },
    {
      "cell_type": "code",
      "source": [
        "X_train_nb.shape"
      ],
      "metadata": {
        "colab": {
          "base_uri": "https://localhost:8080/"
        },
        "id": "qzorlhDh-5q0",
        "outputId": "e7d496ce-4627-40ff-f339-415715e7e8a4"
      },
      "id": "qzorlhDh-5q0",
      "execution_count": null,
      "outputs": [
        {
          "output_type": "execute_result",
          "data": {
            "text/plain": [
              "(1600, 96)"
            ]
          },
          "metadata": {},
          "execution_count": 53
        }
      ]
    },
    {
      "cell_type": "code",
      "source": [
        "y_train_nb.shape"
      ],
      "metadata": {
        "colab": {
          "base_uri": "https://localhost:8080/"
        },
        "id": "PnngzZWI_AZt",
        "outputId": "419af5c8-2bea-4ef1-d122-392b69286847"
      },
      "id": "PnngzZWI_AZt",
      "execution_count": null,
      "outputs": [
        {
          "output_type": "execute_result",
          "data": {
            "text/plain": [
              "(1600,)"
            ]
          },
          "metadata": {},
          "execution_count": 55
        }
      ]
    },
    {
      "cell_type": "markdown",
      "source": [
        "Model Training"
      ],
      "metadata": {
        "id": "p-IPwwa-uE1n"
      },
      "id": "p-IPwwa-uE1n"
    },
    {
      "cell_type": "code",
      "source": [
        "if isinstance(X_train_nb, csr_matrix):\n",
        "    X_train_nb = X_train_nb.toarray()\n",
        "if isinstance(X_test_nb, csr_matrix):\n",
        "    X_test_nb = X_test_nb.toarray()\n",
        "\n",
        "NB_classifier = GaussianNB()\n",
        "\n",
        "NB_classifier.fit(X_train_nb, y_train_nb)\n"
      ],
      "metadata": {
        "colab": {
          "base_uri": "https://localhost:8080/",
          "height": 75
        },
        "id": "AZrBLb6A4XYr",
        "outputId": "e2d62b3a-bf49-4b5c-f674-d8a829fe1099"
      },
      "id": "AZrBLb6A4XYr",
      "execution_count": null,
      "outputs": [
        {
          "output_type": "execute_result",
          "data": {
            "text/plain": [
              "GaussianNB()"
            ],
            "text/html": [
              "<style>#sk-container-id-3 {color: black;background-color: white;}#sk-container-id-3 pre{padding: 0;}#sk-container-id-3 div.sk-toggleable {background-color: white;}#sk-container-id-3 label.sk-toggleable__label {cursor: pointer;display: block;width: 100%;margin-bottom: 0;padding: 0.3em;box-sizing: border-box;text-align: center;}#sk-container-id-3 label.sk-toggleable__label-arrow:before {content: \"▸\";float: left;margin-right: 0.25em;color: #696969;}#sk-container-id-3 label.sk-toggleable__label-arrow:hover:before {color: black;}#sk-container-id-3 div.sk-estimator:hover label.sk-toggleable__label-arrow:before {color: black;}#sk-container-id-3 div.sk-toggleable__content {max-height: 0;max-width: 0;overflow: hidden;text-align: left;background-color: #f0f8ff;}#sk-container-id-3 div.sk-toggleable__content pre {margin: 0.2em;color: black;border-radius: 0.25em;background-color: #f0f8ff;}#sk-container-id-3 input.sk-toggleable__control:checked~div.sk-toggleable__content {max-height: 200px;max-width: 100%;overflow: auto;}#sk-container-id-3 input.sk-toggleable__control:checked~label.sk-toggleable__label-arrow:before {content: \"▾\";}#sk-container-id-3 div.sk-estimator input.sk-toggleable__control:checked~label.sk-toggleable__label {background-color: #d4ebff;}#sk-container-id-3 div.sk-label input.sk-toggleable__control:checked~label.sk-toggleable__label {background-color: #d4ebff;}#sk-container-id-3 input.sk-hidden--visually {border: 0;clip: rect(1px 1px 1px 1px);clip: rect(1px, 1px, 1px, 1px);height: 1px;margin: -1px;overflow: hidden;padding: 0;position: absolute;width: 1px;}#sk-container-id-3 div.sk-estimator {font-family: monospace;background-color: #f0f8ff;border: 1px dotted black;border-radius: 0.25em;box-sizing: border-box;margin-bottom: 0.5em;}#sk-container-id-3 div.sk-estimator:hover {background-color: #d4ebff;}#sk-container-id-3 div.sk-parallel-item::after {content: \"\";width: 100%;border-bottom: 1px solid gray;flex-grow: 1;}#sk-container-id-3 div.sk-label:hover label.sk-toggleable__label {background-color: #d4ebff;}#sk-container-id-3 div.sk-serial::before {content: \"\";position: absolute;border-left: 1px solid gray;box-sizing: border-box;top: 0;bottom: 0;left: 50%;z-index: 0;}#sk-container-id-3 div.sk-serial {display: flex;flex-direction: column;align-items: center;background-color: white;padding-right: 0.2em;padding-left: 0.2em;position: relative;}#sk-container-id-3 div.sk-item {position: relative;z-index: 1;}#sk-container-id-3 div.sk-parallel {display: flex;align-items: stretch;justify-content: center;background-color: white;position: relative;}#sk-container-id-3 div.sk-item::before, #sk-container-id-3 div.sk-parallel-item::before {content: \"\";position: absolute;border-left: 1px solid gray;box-sizing: border-box;top: 0;bottom: 0;left: 50%;z-index: -1;}#sk-container-id-3 div.sk-parallel-item {display: flex;flex-direction: column;z-index: 1;position: relative;background-color: white;}#sk-container-id-3 div.sk-parallel-item:first-child::after {align-self: flex-end;width: 50%;}#sk-container-id-3 div.sk-parallel-item:last-child::after {align-self: flex-start;width: 50%;}#sk-container-id-3 div.sk-parallel-item:only-child::after {width: 0;}#sk-container-id-3 div.sk-dashed-wrapped {border: 1px dashed gray;margin: 0 0.4em 0.5em 0.4em;box-sizing: border-box;padding-bottom: 0.4em;background-color: white;}#sk-container-id-3 div.sk-label label {font-family: monospace;font-weight: bold;display: inline-block;line-height: 1.2em;}#sk-container-id-3 div.sk-label-container {text-align: center;}#sk-container-id-3 div.sk-container {/* jupyter's `normalize.less` sets `[hidden] { display: none; }` but bootstrap.min.css set `[hidden] { display: none !important; }` so we also need the `!important` here to be able to override the default hidden behavior on the sphinx rendered scikit-learn.org. See: https://github.com/scikit-learn/scikit-learn/issues/21755 */display: inline-block !important;position: relative;}#sk-container-id-3 div.sk-text-repr-fallback {display: none;}</style><div id=\"sk-container-id-3\" class=\"sk-top-container\"><div class=\"sk-text-repr-fallback\"><pre>GaussianNB()</pre><b>In a Jupyter environment, please rerun this cell to show the HTML representation or trust the notebook. <br />On GitHub, the HTML representation is unable to render, please try loading this page with nbviewer.org.</b></div><div class=\"sk-container\" hidden><div class=\"sk-item\"><div class=\"sk-estimator sk-toggleable\"><input class=\"sk-toggleable__control sk-hidden--visually\" id=\"sk-estimator-id-5\" type=\"checkbox\" checked><label for=\"sk-estimator-id-5\" class=\"sk-toggleable__label sk-toggleable__label-arrow\">GaussianNB</label><div class=\"sk-toggleable__content\"><pre>GaussianNB()</pre></div></div></div></div></div>"
            ]
          },
          "metadata": {},
          "execution_count": 43
        }
      ]
    },
    {
      "cell_type": "markdown",
      "source": [
        "Predict and evalutate"
      ],
      "metadata": {
        "id": "evHK3RTIuHsV"
      },
      "id": "evHK3RTIuHsV"
    },
    {
      "cell_type": "code",
      "source": [
        "y_pred_nb = NB_classifier.predict(X_test_nb)\n",
        "print('Accuracy:', accuracy_score(y_test_nb, y_pred_nb))"
      ],
      "metadata": {
        "colab": {
          "base_uri": "https://localhost:8080/"
        },
        "id": "4rVCxwUeuD-s",
        "outputId": "4cbfd435-07ba-4170-e9c6-4e79e152ddb5"
      },
      "id": "4rVCxwUeuD-s",
      "execution_count": null,
      "outputs": [
        {
          "output_type": "stream",
          "name": "stdout",
          "text": [
            "Accuracy: 0.565\n"
          ]
        }
      ]
    },
    {
      "cell_type": "code",
      "source": [
        "print('Classification Report:')\n",
        "print(classification_report(y_test_nb, y_pred_nb))"
      ],
      "metadata": {
        "id": "SVJmDP4u4XT4",
        "colab": {
          "base_uri": "https://localhost:8080/"
        },
        "outputId": "dd2db388-5eba-41af-d27f-711670c92dfb"
      },
      "id": "SVJmDP4u4XT4",
      "execution_count": null,
      "outputs": [
        {
          "output_type": "stream",
          "name": "stdout",
          "text": [
            "Classification Report:\n",
            "              precision    recall  f1-score   support\n",
            "\n",
            "    negative       0.59      0.61      0.60       213\n",
            "    positive       0.54      0.51      0.52       187\n",
            "\n",
            "    accuracy                           0.56       400\n",
            "   macro avg       0.56      0.56      0.56       400\n",
            "weighted avg       0.56      0.56      0.56       400\n",
            "\n"
          ]
        }
      ]
    },
    {
      "cell_type": "markdown",
      "source": [
        "# Decision Tree"
      ],
      "metadata": {
        "id": "y90vpXXK6Fma"
      },
      "id": "y90vpXXK6Fma"
    },
    {
      "cell_type": "markdown",
      "source": [
        "Importing necessary libraries."
      ],
      "metadata": {
        "id": "_RslPTLLudQx"
      },
      "id": "_RslPTLLudQx"
    },
    {
      "cell_type": "code",
      "source": [
        "from sklearn.feature_extraction.text import TfidfVectorizer, CountVectorizer\n",
        "from sklearn.tree import DecisionTreeClassifier\n",
        "from sklearn.model_selection import train_test_split\n",
        "from sklearn.metrics import accuracy_score, classification_report, precision_score"
      ],
      "metadata": {
        "id": "BmUe6AAu6WDx"
      },
      "id": "BmUe6AAu6WDx",
      "execution_count": null,
      "outputs": []
    },
    {
      "cell_type": "markdown",
      "source": [
        "Converting text to Vector"
      ],
      "metadata": {
        "id": "aqD1D9syuf-w"
      },
      "id": "aqD1D9syuf-w"
    },
    {
      "cell_type": "code",
      "source": [
        "tfidfvectorizer = TfidfVectorizer()\n",
        "countvectorizer = CountVectorizer()\n",
        "X = tfidfvectorizer.fit_transform(dataset['lemmatized_tokens'])\n",
        "# X = countvectorizer.fit_transform(dataset['lemmatized_tokens'])\n",
        "# X = spacy_vectors\n",
        "y = dataset['sentiment']"
      ],
      "metadata": {
        "id": "Y-6bEFXZ6T7Q"
      },
      "id": "Y-6bEFXZ6T7Q",
      "execution_count": null,
      "outputs": []
    },
    {
      "cell_type": "markdown",
      "source": [
        "Dataset Splitting"
      ],
      "metadata": {
        "id": "mq_ZW7OPuiVQ"
      },
      "id": "mq_ZW7OPuiVQ"
    },
    {
      "cell_type": "code",
      "source": [
        "X_train_dt, X_test_dt, y_train_dt, y_test_dt = train_test_split(X, y, test_size=0.2, random_state=42 )"
      ],
      "metadata": {
        "id": "k94M_RJV6FUI"
      },
      "id": "k94M_RJV6FUI",
      "execution_count": null,
      "outputs": []
    },
    {
      "cell_type": "code",
      "source": [
        "X_train_dt.shape"
      ],
      "metadata": {
        "colab": {
          "base_uri": "https://localhost:8080/"
        },
        "id": "4QVPCviw-qfY",
        "outputId": "564b784c-b61d-45b4-bd59-4efe37dcec6e"
      },
      "id": "4QVPCviw-qfY",
      "execution_count": null,
      "outputs": [
        {
          "output_type": "execute_result",
          "data": {
            "text/plain": [
              "(1600, 20718)"
            ]
          },
          "metadata": {},
          "execution_count": 50
        }
      ]
    },
    {
      "cell_type": "code",
      "source": [
        "y_train_dt.shape"
      ],
      "metadata": {
        "colab": {
          "base_uri": "https://localhost:8080/"
        },
        "id": "C7QClOMX-uJc",
        "outputId": "6f992dbc-698f-4843-f1b0-03b089eeff6c"
      },
      "id": "C7QClOMX-uJc",
      "execution_count": null,
      "outputs": [
        {
          "output_type": "execute_result",
          "data": {
            "text/plain": [
              "(1600,)"
            ]
          },
          "metadata": {},
          "execution_count": 51
        }
      ]
    },
    {
      "cell_type": "markdown",
      "source": [
        "Model Training"
      ],
      "metadata": {
        "id": "c3dlNUcOukrS"
      },
      "id": "c3dlNUcOukrS"
    },
    {
      "cell_type": "code",
      "source": [
        "# Initialize the Decision Tree Classifier\n",
        "decision_tree_classifier = DecisionTreeClassifier(max_depth=10, min_samples_split=5, min_samples_leaf=2, criterion='gini')\n",
        "# Hyper Parameters\n",
        "\n",
        "# Train the classifier on the training data\n",
        "decision_tree_classifier.fit(X_train_dt, y_train_dt)\n"
      ],
      "metadata": {
        "colab": {
          "base_uri": "https://localhost:8080/",
          "height": 75
        },
        "id": "eaD7v_-26Xqx",
        "outputId": "506243f9-ed93-4806-8782-f7f98ae59249"
      },
      "id": "eaD7v_-26Xqx",
      "execution_count": null,
      "outputs": [
        {
          "output_type": "execute_result",
          "data": {
            "text/plain": [
              "DecisionTreeClassifier(max_depth=10, min_samples_leaf=2, min_samples_split=5)"
            ],
            "text/html": [
              "<style>#sk-container-id-7 {color: black;background-color: white;}#sk-container-id-7 pre{padding: 0;}#sk-container-id-7 div.sk-toggleable {background-color: white;}#sk-container-id-7 label.sk-toggleable__label {cursor: pointer;display: block;width: 100%;margin-bottom: 0;padding: 0.3em;box-sizing: border-box;text-align: center;}#sk-container-id-7 label.sk-toggleable__label-arrow:before {content: \"▸\";float: left;margin-right: 0.25em;color: #696969;}#sk-container-id-7 label.sk-toggleable__label-arrow:hover:before {color: black;}#sk-container-id-7 div.sk-estimator:hover label.sk-toggleable__label-arrow:before {color: black;}#sk-container-id-7 div.sk-toggleable__content {max-height: 0;max-width: 0;overflow: hidden;text-align: left;background-color: #f0f8ff;}#sk-container-id-7 div.sk-toggleable__content pre {margin: 0.2em;color: black;border-radius: 0.25em;background-color: #f0f8ff;}#sk-container-id-7 input.sk-toggleable__control:checked~div.sk-toggleable__content {max-height: 200px;max-width: 100%;overflow: auto;}#sk-container-id-7 input.sk-toggleable__control:checked~label.sk-toggleable__label-arrow:before {content: \"▾\";}#sk-container-id-7 div.sk-estimator input.sk-toggleable__control:checked~label.sk-toggleable__label {background-color: #d4ebff;}#sk-container-id-7 div.sk-label input.sk-toggleable__control:checked~label.sk-toggleable__label {background-color: #d4ebff;}#sk-container-id-7 input.sk-hidden--visually {border: 0;clip: rect(1px 1px 1px 1px);clip: rect(1px, 1px, 1px, 1px);height: 1px;margin: -1px;overflow: hidden;padding: 0;position: absolute;width: 1px;}#sk-container-id-7 div.sk-estimator {font-family: monospace;background-color: #f0f8ff;border: 1px dotted black;border-radius: 0.25em;box-sizing: border-box;margin-bottom: 0.5em;}#sk-container-id-7 div.sk-estimator:hover {background-color: #d4ebff;}#sk-container-id-7 div.sk-parallel-item::after {content: \"\";width: 100%;border-bottom: 1px solid gray;flex-grow: 1;}#sk-container-id-7 div.sk-label:hover label.sk-toggleable__label {background-color: #d4ebff;}#sk-container-id-7 div.sk-serial::before {content: \"\";position: absolute;border-left: 1px solid gray;box-sizing: border-box;top: 0;bottom: 0;left: 50%;z-index: 0;}#sk-container-id-7 div.sk-serial {display: flex;flex-direction: column;align-items: center;background-color: white;padding-right: 0.2em;padding-left: 0.2em;position: relative;}#sk-container-id-7 div.sk-item {position: relative;z-index: 1;}#sk-container-id-7 div.sk-parallel {display: flex;align-items: stretch;justify-content: center;background-color: white;position: relative;}#sk-container-id-7 div.sk-item::before, #sk-container-id-7 div.sk-parallel-item::before {content: \"\";position: absolute;border-left: 1px solid gray;box-sizing: border-box;top: 0;bottom: 0;left: 50%;z-index: -1;}#sk-container-id-7 div.sk-parallel-item {display: flex;flex-direction: column;z-index: 1;position: relative;background-color: white;}#sk-container-id-7 div.sk-parallel-item:first-child::after {align-self: flex-end;width: 50%;}#sk-container-id-7 div.sk-parallel-item:last-child::after {align-self: flex-start;width: 50%;}#sk-container-id-7 div.sk-parallel-item:only-child::after {width: 0;}#sk-container-id-7 div.sk-dashed-wrapped {border: 1px dashed gray;margin: 0 0.4em 0.5em 0.4em;box-sizing: border-box;padding-bottom: 0.4em;background-color: white;}#sk-container-id-7 div.sk-label label {font-family: monospace;font-weight: bold;display: inline-block;line-height: 1.2em;}#sk-container-id-7 div.sk-label-container {text-align: center;}#sk-container-id-7 div.sk-container {/* jupyter's `normalize.less` sets `[hidden] { display: none; }` but bootstrap.min.css set `[hidden] { display: none !important; }` so we also need the `!important` here to be able to override the default hidden behavior on the sphinx rendered scikit-learn.org. See: https://github.com/scikit-learn/scikit-learn/issues/21755 */display: inline-block !important;position: relative;}#sk-container-id-7 div.sk-text-repr-fallback {display: none;}</style><div id=\"sk-container-id-7\" class=\"sk-top-container\"><div class=\"sk-text-repr-fallback\"><pre>DecisionTreeClassifier(max_depth=10, min_samples_leaf=2, min_samples_split=5)</pre><b>In a Jupyter environment, please rerun this cell to show the HTML representation or trust the notebook. <br />On GitHub, the HTML representation is unable to render, please try loading this page with nbviewer.org.</b></div><div class=\"sk-container\" hidden><div class=\"sk-item\"><div class=\"sk-estimator sk-toggleable\"><input class=\"sk-toggleable__control sk-hidden--visually\" id=\"sk-estimator-id-9\" type=\"checkbox\" checked><label for=\"sk-estimator-id-9\" class=\"sk-toggleable__label sk-toggleable__label-arrow\">DecisionTreeClassifier</label><div class=\"sk-toggleable__content\"><pre>DecisionTreeClassifier(max_depth=10, min_samples_leaf=2, min_samples_split=5)</pre></div></div></div></div></div>"
            ]
          },
          "metadata": {},
          "execution_count": 65
        }
      ]
    },
    {
      "cell_type": "markdown",
      "source": [
        "Model Prediction"
      ],
      "metadata": {
        "id": "Nr7UpY9vunn3"
      },
      "id": "Nr7UpY9vunn3"
    },
    {
      "cell_type": "code",
      "source": [
        "# Predict the sentiment labels for the test set\n",
        "y_pred_dt = decision_tree_classifier.predict(X_test_dt)"
      ],
      "metadata": {
        "id": "friGkc1Z6u3B"
      },
      "id": "friGkc1Z6u3B",
      "execution_count": null,
      "outputs": []
    },
    {
      "cell_type": "markdown",
      "source": [
        "Here, after hyper parameter tunning the accuracy increase to 66%.\n",
        "Hyper parameters: - (max_depth=10, min_samples_split=5, min_samples_leaf=2, criterion='gini'), before that it was 61%."
      ],
      "metadata": {
        "id": "RZzaXWs3qyuK"
      },
      "id": "RZzaXWs3qyuK"
    },
    {
      "cell_type": "markdown",
      "source": [
        "Evaluation of Decision tree model"
      ],
      "metadata": {
        "id": "Y3-vGmaypspd"
      },
      "id": "Y3-vGmaypspd"
    },
    {
      "cell_type": "code",
      "source": [
        "# Evaluate the accuracy of the classifier\n",
        "accuracy_dt = accuracy_score(y_test_dt, y_pred_dt)\n",
        "print(\"Decision Tree Classifier Accuracy:\", accuracy_dt)\n",
        "\n",
        "print(classification_report(y_test_dt, y_pred_dt))"
      ],
      "metadata": {
        "colab": {
          "base_uri": "https://localhost:8080/"
        },
        "id": "mDJBqMbImAk6",
        "outputId": "25b2b7fc-b3e9-45f7-c5f2-be9697a7f129"
      },
      "id": "mDJBqMbImAk6",
      "execution_count": null,
      "outputs": [
        {
          "output_type": "stream",
          "name": "stdout",
          "text": [
            "Decision Tree Classifier Accuracy: 0.7\n",
            "              precision    recall  f1-score   support\n",
            "\n",
            "    negative       0.81      0.57      0.67       213\n",
            "    positive       0.63      0.84      0.72       187\n",
            "\n",
            "    accuracy                           0.70       400\n",
            "   macro avg       0.72      0.71      0.70       400\n",
            "weighted avg       0.73      0.70      0.70       400\n",
            "\n"
          ]
        }
      ]
    },
    {
      "cell_type": "code",
      "source": [
        " sns.heatmap(confusion_matrix(y_test_dt, y_pred_dt), annot=True, xticklabels='auto', yticklabels='auto', fmt='d')"
      ],
      "metadata": {
        "colab": {
          "base_uri": "https://localhost:8080/",
          "height": 448
        },
        "id": "eSrGL4kGmAib",
        "outputId": "52fe3e53-9d80-4607-dd1d-56faf7c4415d"
      },
      "id": "eSrGL4kGmAib",
      "execution_count": null,
      "outputs": [
        {
          "output_type": "execute_result",
          "data": {
            "text/plain": [
              "<Axes: >"
            ]
          },
          "metadata": {},
          "execution_count": 95
        },
        {
          "output_type": "display_data",
          "data": {
            "text/plain": [
              "<Figure size 640x480 with 2 Axes>"
            ],
            "image/png": "[encoded data removed]"
          },
          "metadata": {}
        }
      ]
    },
    {
      "cell_type": "code",
      "source": [
        "from sklearn.preprocessing import LabelBinarizer\n",
        "from sklearn.metrics import roc_curve, auc\n",
        "\n",
        "# Convert categorical labels to binary labels\n",
        "label_binarizer = LabelBinarizer()\n",
        "y_test_bin = label_binarizer.fit_transform(y_test_dt)\n",
        "\n",
        "# Get the predicted probabilities for the positive class\n",
        "y_pred_proba_dt = decision_tree_classifier.predict_proba(X_test_dt)[:, 1]\n",
        "\n",
        "# Compute ROC curve and ROC area for each class\n",
        "fpr_dt, tpr_dt, _ = roc_curve(y_test_bin, y_pred_proba_dt)\n",
        "roc_auc_dt = auc(fpr_dt, tpr_dt)\n",
        "\n",
        "# Plot ROC curve\n",
        "plt.figure()\n",
        "plt.plot(fpr_dt, tpr_dt, color='darkorange', lw=2, label='ROC curve (area = %0.2f)' % roc_auc_dt)\n",
        "plt.plot([0, 1], [0, 1], color='navy', lw=2, linestyle='--')\n",
        "plt.xlim([0.0, 1.0])\n",
        "plt.ylim([0.0, 1.05])\n",
        "plt.xlabel('False Positive Rate')\n",
        "plt.ylabel('True Positive Rate')\n",
        "plt.title('ROC Curve - Decision Tree Classifier')\n",
        "plt.legend(loc=\"lower right\")\n",
        "plt.show()\n",
        "\n"
      ],
      "metadata": {
        "colab": {
          "base_uri": "https://localhost:8080/",
          "height": 472
        },
        "id": "1CT_cX9cus7h",
        "outputId": "5a29d5fe-aea1-42fa-c934-99c1d849764c"
      },
      "id": "1CT_cX9cus7h",
      "execution_count": null,
      "outputs": [
        {
          "output_type": "display_data",
          "data": {
            "text/plain": [
              "<Figure size 640x480 with 1 Axes>"
            ],
            "image/png": "[encoded data removed]"
          },
          "metadata": {}
        }
      ]
    },
    {
      "cell_type": "markdown",
      "source": [
        "# Using Spacy model"
      ],
      "metadata": {
        "id": "dMIvf_ATQlvy"
      },
      "id": "dMIvf_ATQlvy"
    },
    {
      "cell_type": "markdown",
      "source": [
        "Referred: NLP In-class activity 2"
      ],
      "metadata": {
        "id": "cxrEGtKpu3wR"
      },
      "id": "cxrEGtKpu3wR"
    },
    {
      "cell_type": "code",
      "source": [
        "from spacy.pipeline.textcat import Config, single_label_cnn_config\n",
        "from spacy.training.example import Example\n",
        "from spacy.util import minibatch"
      ],
      "metadata": {
        "id": "WnMmbAHrCIGb"
      },
      "id": "WnMmbAHrCIGb",
      "execution_count": null,
      "outputs": []
    },
    {
      "cell_type": "code",
      "source": [
        "nlp = spacy.blank('en')"
      ],
      "metadata": {
        "id": "m8CezWAsQo_r"
      },
      "id": "m8CezWAsQo_r",
      "execution_count": null,
      "outputs": []
    },
    {
      "cell_type": "code",
      "source": [
        "#Adding  the  TextCategorizer  to  the  pipeline\n",
        "if 'textcat' not in nlp.pipe_names:\n",
        "    textcat = nlp.add_pipe('textcat', last=True)\n",
        "else:\n",
        "    textcat = nlp.get_pipe('textcat')"
      ],
      "metadata": {
        "id": "qoZWNcmlCIEA"
      },
      "id": "qoZWNcmlCIEA",
      "execution_count": null,
      "outputs": []
    },
    {
      "cell_type": "code",
      "source": [
        "categories = dataset['sentiment'].unique().tolist()\n",
        "categories"
      ],
      "metadata": {
        "colab": {
          "base_uri": "https://localhost:8080/"
        },
        "id": "CPUtxGn8PEyD",
        "outputId": "ad6ec2ea-8873-44a4-9812-2f3c09145547"
      },
      "id": "CPUtxGn8PEyD",
      "execution_count": null,
      "outputs": [
        {
          "output_type": "execute_result",
          "data": {
            "text/plain": [
              "['positive', 'negative']"
            ]
          },
          "metadata": {},
          "execution_count": 73
        }
      ]
    },
    {
      "cell_type": "code",
      "source": [
        "for cat in categories:\n",
        "  textcat.add_label(cat)"
      ],
      "metadata": {
        "id": "cQqNl5wbCIBl"
      },
      "id": "cQqNl5wbCIBl",
      "execution_count": null,
      "outputs": []
    },
    {
      "cell_type": "code",
      "source": [
        "dataset.columns"
      ],
      "metadata": {
        "colab": {
          "base_uri": "https://localhost:8080/"
        },
        "id": "NY6NFUdcPgtA",
        "outputId": "1f8cf476-b5dc-4027-f2bb-3fe4836a97b5"
      },
      "id": "NY6NFUdcPgtA",
      "execution_count": null,
      "outputs": [
        {
          "output_type": "execute_result",
          "data": {
            "text/plain": [
              "Index(['review', 'sentiment', 'review_length', 'preprocessed_review',\n",
              "       'lemmatized_tokens', 'pos_tags', 'syntactic_relations',\n",
              "       'named_entities', 'numeric_symbols_punctuations', 'count_vector',\n",
              "       'parsed_tree'],\n",
              "      dtype='object')"
            ]
          },
          "metadata": {},
          "execution_count": 75
        }
      ]
    },
    {
      "cell_type": "code",
      "source": [
        "categories_temp = categories"
      ],
      "metadata": {
        "id": "RqtoqWcNP8az"
      },
      "id": "RqtoqWcNP8az",
      "execution_count": null,
      "outputs": []
    },
    {
      "cell_type": "markdown",
      "source": [
        "Converting the dataset to the format to be feed into the model."
      ],
      "metadata": {
        "id": "-AkYcx28vAJx"
      },
      "id": "-AkYcx28vAJx"
    },
    {
      "cell_type": "code",
      "source": [
        "def df_to_spacy_format(dataset1):\n",
        "    new_dataset = []\n",
        "    for index, row in dataset1.iterrows():\n",
        "        text = row['preprocessed_review']\n",
        "\n",
        "        categories = categories_temp  #unique_labels\n",
        "        default_cats = {category: 0 for category in categories}\n",
        "        cats_dict = {\"cats\": default_cats}\n",
        "        cats_dict[\"cats\"][dataset1.loc[index, 'sentiment']] = 1\n",
        "\n",
        "        new_dataset.append((text, cats_dict))\n",
        "    return new_dataset"
      ],
      "metadata": {
        "id": "naAVOHVOPbcQ"
      },
      "id": "naAVOHVOPbcQ",
      "execution_count": null,
      "outputs": []
    },
    {
      "cell_type": "code",
      "source": [
        "new_dataset = df_to_spacy_format(dataset)"
      ],
      "metadata": {
        "id": "K4QwZyWrPbZ6"
      },
      "id": "K4QwZyWrPbZ6",
      "execution_count": null,
      "outputs": []
    },
    {
      "cell_type": "code",
      "source": [
        "dataset[:2]"
      ],
      "metadata": {
        "colab": {
          "base_uri": "https://localhost:8080/",
          "height": 409
        },
        "id": "RXAq_RaORYAU",
        "outputId": "7be6e09b-5b8d-4f41-d077-96abb2d9c06b"
      },
      "id": "RXAq_RaORYAU",
      "execution_count": null,
      "outputs": [
        {
          "output_type": "execute_result",
          "data": {
            "text/plain": [
              "                                              review sentiment  review_length  \\\n",
              "0  Jim Carrey and Morgan Freeman along with Jenni...  positive            930   \n",
              "1  I thought Choke had potential, but I thought i...  negative            708   \n",
              "\n",
              "                                 preprocessed_review  \\\n",
              "0  jim carrey morgan freeman jennifer aniston com...   \n",
              "1  thought choke potential thought better film in...   \n",
              "\n",
              "                                   lemmatized_tokens  \\\n",
              "0  jim carrey morgan freeman jennifer aniston com...   \n",
              "1  think choke potential think well film interest...   \n",
              "\n",
              "                                            pos_tags  \\\n",
              "0  PROPN PROPN PROPN PROPN PROPN PROPN PROPN NOUN...   \n",
              "1  VERB PROPN ADJ VERB ADJ NOUN ADJ NOUN VERB ADV...   \n",
              "\n",
              "                                 syntactic_relations  \\\n",
              "0  [(aniston, compound), (aniston, compound), (an...   \n",
              "1  [(thought, ROOT), (potential, compound), (thou...   \n",
              "\n",
              "                                      named_entities  \\\n",
              "0  PERSON PERSON PERSON PERSON PERSON PERSON Not ...   \n",
              "1  Not an entity Not an entity Not an entity Not ...   \n",
              "\n",
              "                        numeric_symbols_punctuations  \\\n",
              "0  Symbolic Symbolic Symbolic Symbolic Symbolic S...   \n",
              "1  Symbolic Symbolic Symbolic Symbolic Symbolic S...   \n",
              "\n",
              "                                        count_vector  \\\n",
              "0  [1, 1, 1, 1, 1, 1, 1, 1, 4, 1, 1, 2, 1, 1, 1, ...   \n",
              "1  [1, 1, 1, 1, 1, 1, 1, 1, 1, 1, 1, 1, 1, 1, 1, ...   \n",
              "\n",
              "                                         parsed_tree  \n",
              "0  [[(jim, NN)], [(carrey, NN)], [(morgan, JJ), (...  \n",
              "1  [(think, VB), (choke, VBD), [(potential, JJ), ...  "
            ],
            "text/html": [
              "\n",
              "  <div id=\"df-c0f1cce8-0194-4ac2-887b-a42061c67890\" class=\"colab-df-container\">\n",
              "    <div>\n",
              "<style scoped>\n",
              "    .dataframe tbody tr th:only-of-type {\n",
              "        vertical-align: middle;\n",
              "    }\n",
              "\n",
              "    .dataframe tbody tr th {\n",
              "        vertical-align: top;\n",
              "    }\n",
              "\n",
              "    .dataframe thead th {\n",
              "        text-align: right;\n",
              "    }\n",
              "</style>\n",
              "<table border=\"1\" class=\"dataframe\">\n",
              "  <thead>\n",
              "    <tr style=\"text-align: right;\">\n",
              "      <th></th>\n",
              "      <th>review</th>\n",
              "      <th>sentiment</th>\n",
              "      <th>review_length</th>\n",
              "      <th>preprocessed_review</th>\n",
              "      <th>lemmatized_tokens</th>\n",
              "      <th>pos_tags</th>\n",
              "      <th>syntactic_relations</th>\n",
              "      <th>named_entities</th>\n",
              "      <th>numeric_symbols_punctuations</th>\n",
              "      <th>count_vector</th>\n",
              "      <th>parsed_tree</th>\n",
              "    </tr>\n",
              "  </thead>\n",
              "  <tbody>\n",
              "    <tr>\n",
              "      <th>0</th>\n",
              "      <td>Jim Carrey and Morgan Freeman along with Jenni...</td>\n",
              "      <td>positive</td>\n",
              "      <td>930</td>\n",
              "      <td>jim carrey morgan freeman jennifer aniston com...</td>\n",
              "      <td>jim carrey morgan freeman jennifer aniston com...</td>\n",
              "      <td>PROPN PROPN PROPN PROPN PROPN PROPN PROPN NOUN...</td>\n",
              "      <td>[(aniston, compound), (aniston, compound), (an...</td>\n",
              "      <td>PERSON PERSON PERSON PERSON PERSON PERSON Not ...</td>\n",
              "      <td>Symbolic Symbolic Symbolic Symbolic Symbolic S...</td>\n",
              "      <td>[1, 1, 1, 1, 1, 1, 1, 1, 4, 1, 1, 2, 1, 1, 1, ...</td>\n",
              "      <td>[[(jim, NN)], [(carrey, NN)], [(morgan, JJ), (...</td>\n",
              "    </tr>\n",
              "    <tr>\n",
              "      <th>1</th>\n",
              "      <td>I thought Choke had potential, but I thought i...</td>\n",
              "      <td>negative</td>\n",
              "      <td>708</td>\n",
              "      <td>thought choke potential thought better film in...</td>\n",
              "      <td>think choke potential think well film interest...</td>\n",
              "      <td>VERB PROPN ADJ VERB ADJ NOUN ADJ NOUN VERB ADV...</td>\n",
              "      <td>[(thought, ROOT), (potential, compound), (thou...</td>\n",
              "      <td>Not an entity Not an entity Not an entity Not ...</td>\n",
              "      <td>Symbolic Symbolic Symbolic Symbolic Symbolic S...</td>\n",
              "      <td>[1, 1, 1, 1, 1, 1, 1, 1, 1, 1, 1, 1, 1, 1, 1, ...</td>\n",
              "      <td>[(think, VB), (choke, VBD), [(potential, JJ), ...</td>\n",
              "    </tr>\n",
              "  </tbody>\n",
              "</table>\n",
              "</div>\n",
              "    <div class=\"colab-df-buttons\">\n",
              "\n",
              "  <div class=\"colab-df-container\">\n",
              "    <button class=\"colab-df-convert\" onclick=\"convertToInteractive('df-c0f1cce8-0194-4ac2-887b-a42061c67890')\"\n",
              "            title=\"Convert this dataframe to an interactive table.\"\n",
              "            style=\"display:none;\">\n",
              "\n",
              "  <svg xmlns=\"http://www.w3.org/2000/svg\" height=\"24px\" viewBox=\"0 -960 960 960\">\n",
              "    <path d=\"M120-120v-720h720v720H120Zm60-500h600v-160H180v160Zm220 220h160v-160H400v160Zm0 220h160v-160H400v160ZM180-400h160v-160H180v160Zm440 0h160v-160H620v160ZM180-180h160v-160H180v160Zm440 0h160v-160H620v160Z\"/>\n",
              "  </svg>\n",
              "    </button>\n",
              "\n",
              "  <style>\n",
              "    .colab-df-container {\n",
              "      display:flex;\n",
              "      gap: 12px;\n",
              "    }\n",
              "\n",
              "    .colab-df-convert {\n",
              "      background-color: #E8F0FE;\n",
              "      border: none;\n",
              "      border-radius: 50%;\n",
              "      cursor: pointer;\n",
              "      display: none;\n",
              "      fill: #1967D2;\n",
              "      height: 32px;\n",
              "      padding: 0 0 0 0;\n",
              "      width: 32px;\n",
              "    }\n",
              "\n",
              "    .colab-df-convert:hover {\n",
              "      background-color: #E2EBFA;\n",
              "      box-shadow: 0px 1px 2px rgba(60, 64, 67, 0.3), 0px 1px 3px 1px rgba(60, 64, 67, 0.15);\n",
              "      fill: #174EA6;\n",
              "    }\n",
              "\n",
              "    .colab-df-buttons div {\n",
              "      margin-bottom: 4px;\n",
              "    }\n",
              "\n",
              "    [theme=dark] .colab-df-convert {\n",
              "      background-color: #3B4455;\n",
              "      fill: #D2E3FC;\n",
              "    }\n",
              "\n",
              "    [theme=dark] .colab-df-convert:hover {\n",
              "      background-color: #434B5C;\n",
              "      box-shadow: 0px 1px 3px 1px rgba(0, 0, 0, 0.15);\n",
              "      filter: drop-shadow(0px 1px 2px rgba(0, 0, 0, 0.3));\n",
              "      fill: #FFFFFF;\n",
              "    }\n",
              "  </style>\n",
              "\n",
              "    <script>\n",
              "      const buttonEl =\n",
              "        document.querySelector('#df-c0f1cce8-0194-4ac2-887b-a42061c67890 button.colab-df-convert');\n",
              "      buttonEl.style.display =\n",
              "        google.colab.kernel.accessAllowed ? 'block' : 'none';\n",
              "\n",
              "      async function convertToInteractive(key) {\n",
              "        const element = document.querySelector('#df-c0f1cce8-0194-4ac2-887b-a42061c67890');\n",
              "        const dataTable =\n",
              "          await google.colab.kernel.invokeFunction('convertToInteractive',\n",
              "                                                    [key], {});\n",
              "        if (!dataTable) return;\n",
              "\n",
              "        const docLinkHtml = 'Like what you see? Visit the ' +\n",
              "          '<a target=\"_blank\" href=https://colab.research.google.com/notebooks/data_table.ipynb>data table notebook</a>'\n",
              "          + ' to learn more about interactive tables.';\n",
              "        element.innerHTML = '';\n",
              "        dataTable['output_type'] = 'display_data';\n",
              "        await google.colab.output.renderOutput(dataTable, element);\n",
              "        const docLink = document.createElement('div');\n",
              "        docLink.innerHTML = docLinkHtml;\n",
              "        element.appendChild(docLink);\n",
              "      }\n",
              "    </script>\n",
              "  </div>\n",
              "\n",
              "\n",
              "<div id=\"df-c2a91810-03d1-435d-809d-d46b0e11f846\">\n",
              "  <button class=\"colab-df-quickchart\" onclick=\"quickchart('df-c2a91810-03d1-435d-809d-d46b0e11f846')\"\n",
              "            title=\"Suggest charts\"\n",
              "            style=\"display:none;\">\n",
              "\n",
              "<svg xmlns=\"http://www.w3.org/2000/svg\" height=\"24px\"viewBox=\"0 0 24 24\"\n",
              "     width=\"24px\">\n",
              "    <g>\n",
              "        <path d=\"M19 3H5c-1.1 0-2 .9-2 2v14c0 1.1.9 2 2 2h14c1.1 0 2-.9 2-2V5c0-1.1-.9-2-2-2zM9 17H7v-7h2v7zm4 0h-2V7h2v10zm4 0h-2v-4h2v4z\"/>\n",
              "    </g>\n",
              "</svg>\n",
              "  </button>\n",
              "\n",
              "<style>\n",
              "  .colab-df-quickchart {\n",
              "      --bg-color: #E8F0FE;\n",
              "      --fill-color: #1967D2;\n",
              "      --hover-bg-color: #E2EBFA;\n",
              "      --hover-fill-color: #174EA6;\n",
              "      --disabled-fill-color: #AAA;\n",
              "      --disabled-bg-color: #DDD;\n",
              "  }\n",
              "\n",
              "  [theme=dark] .colab-df-quickchart {\n",
              "      --bg-color: #3B4455;\n",
              "      --fill-color: #D2E3FC;\n",
              "      --hover-bg-color: #434B5C;\n",
              "      --hover-fill-color: #FFFFFF;\n",
              "      --disabled-bg-color: #3B4455;\n",
              "      --disabled-fill-color: #666;\n",
              "  }\n",
              "\n",
              "  .colab-df-quickchart {\n",
              "    background-color: var(--bg-color);\n",
              "    border: none;\n",
              "    border-radius: 50%;\n",
              "    cursor: pointer;\n",
              "    display: none;\n",
              "    fill: var(--fill-color);\n",
              "    height: 32px;\n",
              "    padding: 0;\n",
              "    width: 32px;\n",
              "  }\n",
              "\n",
              "  .colab-df-quickchart:hover {\n",
              "    background-color: var(--hover-bg-color);\n",
              "    box-shadow: 0 1px 2px rgba(60, 64, 67, 0.3), 0 1px 3px 1px rgba(60, 64, 67, 0.15);\n",
              "    fill: var(--button-hover-fill-color);\n",
              "  }\n",
              "\n",
              "  .colab-df-quickchart-complete:disabled,\n",
              "  .colab-df-quickchart-complete:disabled:hover {\n",
              "    background-color: var(--disabled-bg-color);\n",
              "    fill: var(--disabled-fill-color);\n",
              "    box-shadow: none;\n",
              "  }\n",
              "\n",
              "  .colab-df-spinner {\n",
              "    border: 2px solid var(--fill-color);\n",
              "    border-color: transparent;\n",
              "    border-bottom-color: var(--fill-color);\n",
              "    animation:\n",
              "      spin 1s steps(1) infinite;\n",
              "  }\n",
              "\n",
              "  @keyframes spin {\n",
              "    0% {\n",
              "      border-color: transparent;\n",
              "      border-bottom-color: var(--fill-color);\n",
              "      border-left-color: var(--fill-color);\n",
              "    }\n",
              "    20% {\n",
              "      border-color: transparent;\n",
              "      border-left-color: var(--fill-color);\n",
              "      border-top-color: var(--fill-color);\n",
              "    }\n",
              "    30% {\n",
              "      border-color: transparent;\n",
              "      border-left-color: var(--fill-color);\n",
              "      border-top-color: var(--fill-color);\n",
              "      border-right-color: var(--fill-color);\n",
              "    }\n",
              "    40% {\n",
              "      border-color: transparent;\n",
              "      border-right-color: var(--fill-color);\n",
              "      border-top-color: var(--fill-color);\n",
              "    }\n",
              "    60% {\n",
              "      border-color: transparent;\n",
              "      border-right-color: var(--fill-color);\n",
              "    }\n",
              "    80% {\n",
              "      border-color: transparent;\n",
              "      border-right-color: var(--fill-color);\n",
              "      border-bottom-color: var(--fill-color);\n",
              "    }\n",
              "    90% {\n",
              "      border-color: transparent;\n",
              "      border-bottom-color: var(--fill-color);\n",
              "    }\n",
              "  }\n",
              "</style>\n",
              "\n",
              "  <script>\n",
              "    async function quickchart(key) {\n",
              "      const quickchartButtonEl =\n",
              "        document.querySelector('#' + key + ' button');\n",
              "      quickchartButtonEl.disabled = true;  // To prevent multiple clicks.\n",
              "      quickchartButtonEl.classList.add('colab-df-spinner');\n",
              "      try {\n",
              "        const charts = await google.colab.kernel.invokeFunction(\n",
              "            'suggestCharts', [key], {});\n",
              "      } catch (error) {\n",
              "        console.error('Error during call to suggestCharts:', error);\n",
              "      }\n",
              "      quickchartButtonEl.classList.remove('colab-df-spinner');\n",
              "      quickchartButtonEl.classList.add('colab-df-quickchart-complete');\n",
              "    }\n",
              "    (() => {\n",
              "      let quickchartButtonEl =\n",
              "        document.querySelector('#df-c2a91810-03d1-435d-809d-d46b0e11f846 button');\n",
              "      quickchartButtonEl.style.display =\n",
              "        google.colab.kernel.accessAllowed ? 'block' : 'none';\n",
              "    })();\n",
              "  </script>\n",
              "</div>\n",
              "\n",
              "    </div>\n",
              "  </div>\n"
            ],
            "application/vnd.google.colaboratory.intrinsic+json": {
              "type": "dataframe",
              "summary": "{\n  \"name\": \"dataset[:2]\",\n  \"rows\": 2,\n  \"fields\": [\n    {\n      \"column\": \"review\",\n      \"properties\": {\n        \"dtype\": \"string\",\n        \"num_unique_values\": 2,\n        \"samples\": [\n          \"I thought Choke had potential, but I thought it could have been a much better film. It had some interesting twists and turns, but some of them seemed kind of pointless. When showing background on the two main characters, some of that really seemed to go awry. Most of it was sort of useless and didn't help the movie at all. This was also not Dennis Hopper's finest hour. However, the main saving grace of this movie for me was Michael Madsen. His performance was excellent. In this movie, he almost makes Mr. Blonde look like a nice guy. All in all, it was watchable. Still, I was left thinking some things could have been done differently. These things would have made the movie much better, in my opinion.\",\n          \"Jim Carrey and Morgan Freeman along with Jennifer Aniston combine to make one of the funniest movies so far this 2003 season (late May) and a good improvement on Carrey's past crazy and personally forgetable roles in past comedies. With a slightly toned down Carrey antics yet with just the zap and crackle of his old self, Carrey powerfully carries this movie to the height of laughter and also some dramatic, tearfully somber moments. Elements of Jim's real acting abilities continue to show up in this movie. This delightful summer entertainment hits most of the buttons, including dramatic elements along with the goofy moments that fit perfectly with this script. While still lacking in the superbly polished ensemble of comedy/drama, Bruce, Almightly deserves credit for being a great date movie along with a solid message and soft spiritual cynicism and parody that maintains its good-natured taste. Eight out of ten stars.\"\n        ],\n        \"semantic_type\": \"\",\n        \"description\": \"\"\n      }\n    },\n    {\n      \"column\": \"sentiment\",\n      \"properties\": {\n        \"dtype\": \"string\",\n        \"num_unique_values\": 2,\n        \"samples\": [\n          \"negative\",\n          \"positive\"\n        ],\n        \"semantic_type\": \"\",\n        \"description\": \"\"\n      }\n    },\n    {\n      \"column\": \"review_length\",\n      \"properties\": {\n        \"dtype\": \"number\",\n        \"std\": 156,\n        \"min\": 708,\n        \"max\": 930,\n        \"num_unique_values\": 2,\n        \"samples\": [\n          708,\n          930\n        ],\n        \"semantic_type\": \"\",\n        \"description\": \"\"\n      }\n    },\n    {\n      \"column\": \"preprocessed_review\",\n      \"properties\": {\n        \"dtype\": \"string\",\n        \"num_unique_values\": 2,\n        \"samples\": [\n          \"thought choke potential thought better film interesting twists turns kind pointless showing background main characters awry sort useless help movie dennis hopper finest hour main saving grace movie michael madsen performance excellent movie makes mr blonde look like nice guy watchable left thinking things differently things movie better opinion\",\n          \"jim carrey morgan freeman jennifer aniston combine funniest movies far 2003 season late good improvement carrey past crazy personally forgetable roles past comedies slightly toned carrey antics zap crackle old self carrey powerfully carries movie height laughter dramatic tearfully somber moments elements jim real acting abilities continue movie delightful summer entertainment hits buttons including dramatic elements goofy moments fit perfectly script lacking superbly polished ensemble comedy drama bruce almightly deserves credit great date movie solid message soft spiritual cynicism parody maintains good natured taste stars\"\n        ],\n        \"semantic_type\": \"\",\n        \"description\": \"\"\n      }\n    },\n    {\n      \"column\": \"lemmatized_tokens\",\n      \"properties\": {\n        \"dtype\": \"string\",\n        \"num_unique_values\": 2,\n        \"samples\": [\n          \"think choke potential think well film interesting twist turn kind pointless show background main character awry sort useless help movie dennis hopper fine hour main saving grace movie michael madsen performance excellent movie make mr blonde look like nice guy watchable leave think thing differently thing movie well opinion\",\n          \"jim carrey morgan freeman jennifer aniston combine funniest movie far 2003 season late good improvement carrey past crazy personally forgetable role past comedy slightly tone carrey antic zap crackle old self carrey powerfully carry movie height laughter dramatic tearfully somber moment element jim real act ability continue movie delightful summer entertainment hit button include dramatic element goofy moment fit perfectly script lack superbly polished ensemble comedy drama bruce almightly deserve credit great date movie solid message soft spiritual cynicism parody maintain good natured taste star\"\n        ],\n        \"semantic_type\": \"\",\n        \"description\": \"\"\n      }\n    },\n    {\n      \"column\": \"pos_tags\",\n      \"properties\": {\n        \"dtype\": \"string\",\n        \"num_unique_values\": 2,\n        \"samples\": [\n          \"VERB PROPN ADJ VERB ADJ NOUN ADJ NOUN VERB ADV ADJ VERB NOUN ADJ NOUN VERB ADV ADJ NOUN VERB PROPN PROPN ADJ NOUN ADJ NOUN NOUN NOUN PROPN PROPN NOUN ADJ NOUN VERB PROPN ADJ VERB ADP ADJ NOUN NOUN VERB VERB NOUN ADV NOUN VERB ADJ NOUN\",\n          \"PROPN PROPN PROPN PROPN PROPN PROPN PROPN NOUN NOUN ADV NUM NOUN ADJ ADJ NOUN NOUN ADP ADJ ADV ADJ NOUN ADP NOUN ADV VERB NOUN NOUN PROPN VERB ADJ NOUN NOUN PROPN VERB NOUN NOUN NOUN ADJ ADV ADJ NOUN NOUN PROPN ADJ VERB NOUN VERB NOUN ADJ NOUN NOUN VERB NOUN VERB ADJ NOUN PROPN NOUN VERB ADV NOUN VERB ADV ADJ ADJ NOUN NOUN NOUN ADV VERB NOUN ADJ NOUN NOUN ADJ NOUN ADJ ADJ NOUN NOUN VERB ADJ ADJ NOUN NOUN\"\n        ],\n        \"semantic_type\": \"\",\n        \"description\": \"\"\n      }\n    },\n    {\n      \"column\": \"syntactic_relations\",\n      \"properties\": {\n        \"dtype\": \"object\",\n        \"semantic_type\": \"\",\n        \"description\": \"\"\n      }\n    },\n    {\n      \"column\": \"named_entities\",\n      \"properties\": {\n        \"dtype\": \"string\",\n        \"num_unique_values\": 2,\n        \"samples\": [\n          \"Not an entity Not an entity Not an entity Not an entity Not an entity Not an entity Not an entity Not an entity Not an entity Not an entity Not an entity Not an entity Not an entity Not an entity Not an entity Not an entity Not an entity Not an entity Not an entity Not an entity Not an entity Not an entity Not an entity Not an entity Not an entity Not an entity Not an entity Not an entity PERSON PERSON Not an entity Not an entity Not an entity Not an entity Not an entity Not an entity Not an entity Not an entity Not an entity Not an entity Not an entity Not an entity Not an entity Not an entity Not an entity Not an entity Not an entity Not an entity Not an entity\",\n          \"PERSON PERSON PERSON PERSON PERSON PERSON Not an entity Not an entity Not an entity Not an entity DATE DATE Not an entity Not an entity Not an entity Not an entity Not an entity Not an entity Not an entity Not an entity Not an entity Not an entity Not an entity Not an entity Not an entity Not an entity Not an entity Not an entity Not an entity Not an entity Not an entity Not an entity Not an entity Not an entity Not an entity Not an entity Not an entity Not an entity Not an entity Not an entity Not an entity Not an entity PERSON Not an entity Not an entity Not an entity Not an entity Not an entity Not an entity DATE Not an entity Not an entity Not an entity Not an entity Not an entity Not an entity Not an entity Not an entity Not an entity Not an entity Not an entity Not an entity Not an entity Not an entity Not an entity Not an entity Not an entity Not an entity Not an entity Not an entity Not an entity Not an entity Not an entity Not an entity Not an entity Not an entity Not an entity Not an entity Not an entity Not an entity Not an entity Not an entity Not an entity Not an entity Not an entity\"\n        ],\n        \"semantic_type\": \"\",\n        \"description\": \"\"\n      }\n    },\n    {\n      \"column\": \"numeric_symbols_punctuations\",\n      \"properties\": {\n        \"dtype\": \"string\",\n        \"num_unique_values\": 2,\n        \"samples\": [\n          \"Symbolic Symbolic Symbolic Symbolic Symbolic Symbolic Symbolic Symbolic Symbolic Symbolic Symbolic Symbolic Symbolic Symbolic Symbolic Symbolic Symbolic Symbolic Symbolic Symbolic Symbolic Symbolic Symbolic Symbolic Symbolic Symbolic Symbolic Symbolic Symbolic Symbolic Symbolic Symbolic Symbolic Symbolic Symbolic Symbolic Symbolic Symbolic Symbolic Symbolic Symbolic Symbolic Symbolic Symbolic Symbolic Symbolic Symbolic Symbolic Symbolic\",\n          \"Symbolic Symbolic Symbolic Symbolic Symbolic Symbolic Symbolic Symbolic Symbolic Symbolic Numeric Symbolic Symbolic Symbolic Symbolic Symbolic Symbolic Symbolic Symbolic Symbolic Symbolic Symbolic Symbolic Symbolic Symbolic Symbolic Symbolic Symbolic Symbolic Symbolic Symbolic Symbolic Symbolic Symbolic Symbolic Symbolic Symbolic Symbolic Symbolic Symbolic Symbolic Symbolic Symbolic Symbolic Symbolic Symbolic Symbolic Symbolic Symbolic Symbolic Symbolic Symbolic Symbolic Symbolic Symbolic Symbolic Symbolic Symbolic Symbolic Symbolic Symbolic Symbolic Symbolic Symbolic Symbolic Symbolic Symbolic Symbolic Symbolic Symbolic Symbolic Symbolic Symbolic Symbolic Symbolic Symbolic Symbolic Symbolic Symbolic Symbolic Symbolic Symbolic Symbolic Symbolic Symbolic\"\n        ],\n        \"semantic_type\": \"\",\n        \"description\": \"\"\n      }\n    },\n    {\n      \"column\": \"count_vector\",\n      \"properties\": {\n        \"dtype\": \"object\",\n        \"semantic_type\": \"\",\n        \"description\": \"\"\n      }\n    },\n    {\n      \"column\": \"parsed_tree\",\n      \"properties\": {\n        \"dtype\": \"object\",\n        \"semantic_type\": \"\",\n        \"description\": \"\"\n      }\n    }\n  ]\n}"
            }
          },
          "metadata": {},
          "execution_count": 79
        }
      ]
    },
    {
      "cell_type": "code",
      "source": [
        "new_dataset[:2]"
      ],
      "metadata": {
        "colab": {
          "base_uri": "https://localhost:8080/"
        },
        "id": "Ea0DuGynPbXv",
        "outputId": "2f8b36b6-4d2c-4c97-c5ed-de67500f67ff"
      },
      "id": "Ea0DuGynPbXv",
      "execution_count": null,
      "outputs": [
        {
          "output_type": "execute_result",
          "data": {
            "text/plain": [
              "[('jim carrey morgan freeman jennifer aniston combine funniest movies far 2003 season late good improvement carrey past crazy personally forgetable roles past comedies slightly toned carrey antics zap crackle old self carrey powerfully carries movie height laughter dramatic tearfully somber moments elements jim real acting abilities continue movie delightful summer entertainment hits buttons including dramatic elements goofy moments fit perfectly script lacking superbly polished ensemble comedy drama bruce almightly deserves credit great date movie solid message soft spiritual cynicism parody maintains good natured taste stars',\n",
              "  {'cats': {'positive': 1, 'negative': 0}}),\n",
              " ('thought choke potential thought better film interesting twists turns kind pointless showing background main characters awry sort useless help movie dennis hopper finest hour main saving grace movie michael madsen performance excellent movie makes mr blonde look like nice guy watchable left thinking things differently things movie better opinion',\n",
              "  {'cats': {'positive': 0, 'negative': 1}})]"
            ]
          },
          "metadata": {},
          "execution_count": 80
        }
      ]
    },
    {
      "cell_type": "code",
      "source": [
        "import random\n",
        "\n",
        "random.shuffle(new_dataset)\n",
        "\n",
        "print(new_dataset)"
      ],
      "metadata": {
        "id": "nWHEz1NZPbVk"
      },
      "id": "nWHEz1NZPbVk",
      "execution_count": null,
      "outputs": []
    },
    {
      "cell_type": "markdown",
      "source": [
        "Dataset splitting"
      ],
      "metadata": {
        "id": "vZclUCk1vKxn"
      },
      "id": "vZclUCk1vKxn"
    },
    {
      "cell_type": "code",
      "source": [
        "X = new_dataset[:]\n",
        "y = dataset['sentiment'].iloc[:]"
      ],
      "metadata": {
        "id": "cO9zeNarPbTT"
      },
      "id": "cO9zeNarPbTT",
      "execution_count": null,
      "outputs": []
    },
    {
      "cell_type": "code",
      "source": [
        "X_train_nn, X_test_nn, y_train_nn, y_test_nn = train_test_split(X, y, test_size=0.30, random_state=42)"
      ],
      "metadata": {
        "id": "XPf3UKwlPbQn"
      },
      "id": "XPf3UKwlPbQn",
      "execution_count": null,
      "outputs": []
    },
    {
      "cell_type": "markdown",
      "source": [
        "Unsupervised Model Training using Spacy built-in model"
      ],
      "metadata": {
        "id": "9s6CzUUovOnd"
      },
      "id": "9s6CzUUovOnd"
    },
    {
      "cell_type": "code",
      "source": [
        "def nn_spacy(num_epochs, batch_size, data_train):\n",
        "\n",
        "    # Training the text categorization model\n",
        "    optimizer = nlp.initialize()\n",
        "    tot_loss = []\n",
        "    for epoch in range(num_epochs):  # Number of training epochs\n",
        "        losses = {}\n",
        "        batches = minibatch(data_train, size=batch_size)\n",
        "        for batch in batches:\n",
        "            examples = [Example.from_dict(nlp.make_doc(text), annotations) for text, annotations in batch]\n",
        "            nlp.update(examples, drop=0.2, losses=losses, sgd=optimizer)\n",
        "        print(losses['textcat'])\n",
        "        # break\n",
        "        tot_loss.append(losses['textcat'])\n",
        "\n",
        "    return tot_loss, nlp\n",
        "\n",
        "data_train = X_train_nn\n"
      ],
      "metadata": {
        "id": "j-HOMPvpPbOY"
      },
      "id": "j-HOMPvpPbOY",
      "execution_count": null,
      "outputs": []
    },
    {
      "cell_type": "markdown",
      "source": [
        "Model Training"
      ],
      "metadata": {
        "id": "k_eOKY5AvY01"
      },
      "id": "k_eOKY5AvY01"
    },
    {
      "cell_type": "code",
      "source": [
        "total_loss, model = nn_spacy(15, 12, data_train)\n",
        "print('Model Training')"
      ],
      "metadata": {
        "id": "NB7bQeZePbMH",
        "colab": {
          "base_uri": "https://localhost:8080/"
        },
        "outputId": "6e62964c-bba9-4166-f12a-9dc1979dc279"
      },
      "id": "NB7bQeZePbMH",
      "execution_count": null,
      "outputs": [
        {
          "output_type": "stream",
          "name": "stdout",
          "text": [
            "28.448574006557465\n",
            "20.995560832321644\n",
            "14.472389050759375\n",
            "9.90543643484125\n",
            "7.857027183699756\n",
            "5.829428230378653\n",
            "3.766554600615315\n",
            "2.6120472990920227\n",
            "1.4476855151445784\n",
            "1.2094010751540063\n",
            "1.043612666475515\n",
            "1.4390478348674565\n",
            "1.3463719616153131\n",
            "0.7230167565692864\n",
            "1.4215268445598483\n",
            "Model Training\n"
          ]
        }
      ]
    },
    {
      "cell_type": "markdown",
      "source": [
        "Visualising model loss plot."
      ],
      "metadata": {
        "id": "xj4bnB6uvgEF"
      },
      "id": "xj4bnB6uvgEF"
    },
    {
      "cell_type": "code",
      "source": [
        "plt.plot(total_loss,label='loss')\n",
        "plt.title('Model Loss with every epochs')\n",
        "plt.xlabel('No. of epochs')\n",
        "plt.ylabel('Loss')\n",
        "plt.legend()  # Plot the chart\n",
        "plt.show()  # display"
      ],
      "metadata": {
        "colab": {
          "base_uri": "https://localhost:8080/",
          "height": 472
        },
        "id": "Qj3XlIQBPbJw",
        "outputId": "838231f6-e73f-4dc2-b464-5b7a1e8f0cdf"
      },
      "id": "Qj3XlIQBPbJw",
      "execution_count": null,
      "outputs": [
        {
          "output_type": "display_data",
          "data": {
            "text/plain": [
              "<Figure size 640x480 with 1 Axes>"
            ],
            "image/png": "[encoded data removed]"
          },
          "metadata": {}
        }
      ]
    },
    {
      "cell_type": "markdown",
      "source": [
        "Calculating Accuracy"
      ],
      "metadata": {
        "id": "cit-RVeLvka9"
      },
      "id": "cit-RVeLvka9"
    },
    {
      "cell_type": "code",
      "source": [
        "def find_marked_categories(cat_dict):\n",
        "    marked_categories = [category for category, value in cat_dict['cats'].items() if value == 1]\n",
        "    return marked_categories[0]\n",
        "\n",
        "\n",
        "def predict_and_evaluate(model, test_data):\n",
        "    correct_predictions = 0\n",
        "    predictions = []\n",
        "\n",
        "    for text, true_labels in test_data:\n",
        "        doc = model(text)\n",
        "        prediction = doc.cats\n",
        "\n",
        "        highest_category = max(prediction, key=prediction.get)\n",
        "        if find_marked_categories(true_labels) == highest_category:\n",
        "            correct_predictions += 1\n",
        "\n",
        "    return correct_predictions/len(test_data)\n"
      ],
      "metadata": {
        "id": "nEknvUl1PbHg"
      },
      "id": "nEknvUl1PbHg",
      "execution_count": null,
      "outputs": []
    },
    {
      "cell_type": "code",
      "source": [
        "predict_and_evaluate(model, X_test_nn)"
      ],
      "metadata": {
        "id": "eReGmJCkPbFT",
        "colab": {
          "base_uri": "https://localhost:8080/"
        },
        "outputId": "12457e9a-eae9-45da-8d46-e8791c45f0ed"
      },
      "id": "eReGmJCkPbFT",
      "execution_count": null,
      "outputs": [
        {
          "output_type": "execute_result",
          "data": {
            "text/plain": [
              "0.7916666666666666"
            ]
          },
          "metadata": {},
          "execution_count": 93
        }
      ]
    },
    {
      "cell_type": "code",
      "source": [
        "# --------------------------------------------------------------------"
      ],
      "metadata": {
        "id": "3RT3I5fOPbDQ"
      },
      "id": "3RT3I5fOPbDQ",
      "execution_count": null,
      "outputs": []
    },
    {
      "cell_type": "markdown",
      "id": "8868db88-9455-4bd9-a611-9ac3bae1fbf3",
      "metadata": {
        "id": "8868db88-9455-4bd9-a611-9ac3bae1fbf3"
      },
      "source": [
        "##Document the process and findings:\n",
        "\n",
        "Firstly, this project is aimed Pre processing of Raw Data for which we used IMDB Review dataset which consists of Review and Sentiment. This being part of Sentiment Analysis for IMDB Movie Reviews.\n",
        "\n",
        "**Dataset**:\n",
        "The dataset is taken from open-source platform called Kaggle (URL). Our dataset consists of 2 features that is review and sentiments. Sentiments feature has two unique value that is Positive sentiment and Negative sentiment. Our dataset is a balanced dataset that has 25000 records for both the classes.\n",
        "\n",
        "**Data Preprocessing:**\n",
        "we intially started out with basic exploration of data, like Data Loading, Importing all the required Libraries and modules one after the other.\n",
        "\n",
        "We started working and realised it is taking a lot of time to process 50K records for preprocessing, for which we considered some sample reviews positive and negative, randomly and started working with 2000 records each. Tried to visualize the same.\n",
        "\n",
        "Implemented Lemmatization, Syntactic relations, Named entity extraction, addressed punctuations removal, spaces, symbols.\n",
        "As part of the requirement document, tried implementing Vectorizer, Word2Vec, Parsed_tree.\n",
        "\n",
        "\n",
        "**Model Selection**: Our dataset is related to sentiment analysis. There two features available in the dataset, reviews feature is an independent feature and Sentiment feature has two unique values is a dependent variable, It a classification problem under supervised learning. Therefore, we have used four different classification models in our project. We have used Logistic Regression, Support Vector Machine algorithm, Naïve Bayes algorithm, Decision Tree model and Spacy built-in neural network model.\n",
        "\n",
        "**Model Training and Evaluation**: Before training the models, the processed data is converted into vector using Bag of Word vectorisation Technique and TF-IDF Vectorisation Technique. Further processed data is split into training set and Testing set to feed into the model training.\n",
        "We have using various hyper parameter tunning to improve the model performance.\n",
        "\n",
        "In Logistic Regression, we have tried using two word embedding techniques like ‘TF-IDF’ and ‘Spacy’ vectorisation. Using TF-IDF, ‘word2vec’ technique we can achieve 80% accuracy and ROC curve value is 0.91 whilst, with spacy vectorisation we were able to achieve just 63.75% accuracy and ROC curve value is 0.66.\n",
        "\n",
        "With Decision Tree Regressor, we have tried using various hyper parameters, like 3 word embedding technique, from that TD-IDF is most effective technique, with other hyper parameters in Decision Regressor like max depth value as 10, minimum sample split value as 5, minimum sample leaf value as 2, Gini impurity criterion. With these hyper parameters, we have achieved 70% testing accuracy.\n",
        "In SVM algorithm, using TD-IDF word embedding technique we have achieved 83% of testing accuracy, which suite as the best parameter for model training.\n",
        "\n",
        "Using Spacy built-in model, dataset must be converted to a particular format such that it could fit to the model by converting each record in a tuple. After random shuffling of newly formatted dataset, it is feed into the model. Using hyper parameters like setting SGD optimiser, spacy loss calculation technique, dropout value to 0.2, 25 epochs and batch size value is 12, we were able to achieve 76.66% accuracy and 0.29 loss value.\n",
        "\n",
        "**Observation:**\n",
        "From our observation and Analysis, we could see that Logistic Regression and SVM is performing better than any Classification or Spacy Model with more than 80% accuracy.\n",
        "It can Classify whether Positive and Negative.\n"
      ]
    },
    {
      "cell_type": "code",
      "execution_count": null,
      "id": "1cee608f-9591-4cd4-b55a-e251bdf36af9",
      "metadata": {
        "id": "1cee608f-9591-4cd4-b55a-e251bdf36af9"
      },
      "outputs": [],
      "source": []
    }
  ],
  "metadata": {
    "kernelspec": {
      "display_name": "Python 3 (ipykernel)",
      "language": "python",
      "name": "python3"
    },
    "language_info": {
      "codemirror_mode": {
        "name": "ipython",
        "version": 3
      },
      "file_extension": ".py",
      "mimetype": "text/x-python",
      "name": "python",
      "nbconvert_exporter": "python",
      "pygments_lexer": "ipython3",
      "version": "3.12.0"
    },
    "colab": {
      "provenance": []
    }
  },
  "nbformat": 4,
  "nbformat_minor": 5
}